{
 "cells": [
  {
   "cell_type": "code",
   "execution_count": 2,
   "metadata": {},
   "outputs": [],
   "source": [
    "import numpy as np\n",
    "import pandas as pd\n",
    "import matplotlib.pyplot as plt"
   ]
  },
  {
   "cell_type": "code",
   "execution_count": 4,
   "metadata": {},
   "outputs": [
    {
     "name": "stdout",
     "output_type": "stream",
     "text": [
      "<Body mat='2' vx='0' vy='0' thick='1'>\n",
      "<Polygon>\n",
      "<pt x='-1.0785528555590005' y='0.5260453761468928'/>\n",
      "<pt x='0' y='0'/>\n",
      "<pt x='0.3' y='0'/>\n",
      "<pt x='0.3' y='0.08'/>\n",
      "<pt x='0' y='0.08'/>\n",
      "<pt x='-1.0785528555590005' y='0.6060453761468928'/>\n",
      "</Polygon>\n",
      "</Body>\n",
      "<Body mat='5' vx='0' vy='0' thick='1'>\n",
      "<Polygon>\n",
      "<pt x='0.3' y='0'/>\n",
      "<pt x='0.35' y='0'/>\n",
      "<pt x='0.35' y='0.6799999999999999'/>\n",
      "<pt x='0.3' y='0.6799999999999999'/>\n",
      "</Polygon>\n",
      "</Body>\n",
      "<Body mat='6' vx='0' vy='0' thick='1'>\n",
      "<Polygon>\n",
      "<pt x='-0.7190352370393337' y='0.430696917431262'/>\n",
      "<pt x='-0.7010593561133504' y='0.4219294944954804'/>\n",
      "<pt x='-0.48187378271881165' y='0.871326517645064'/>\n",
      "<pt x='-0.499849663644795' y='0.8800939405808454'/>\n",
      "</Polygon>\n",
      "</Body>\n",
      "<Body mat='1' vx='0' vy='0' thick='1'>\n",
      "<Polygon>\n",
      "<pt x='-0.7190352370393337' y='0.430696917431262'/>\n",
      "<pt x='-0.5809483258007744' y='0.7138170420154997'/>\n",
      "<pt x='-0.7427312541346243' y='0.7927238484375335'/>\n",
      "<pt x='-0.8808181653731837' y='0.5096037238532959'/>\n",
      "</Polygon>\n",
      "</Body>\n"
     ]
    }
   ],
   "source": [
    "# Kelvin's test setup \n",
    "\n",
    "angle=26./180*np.pi\n",
    "# Bottom\n",
    "inclineLength=1.2\n",
    "horizontalLength=0.3 \n",
    "thickness=0.08 # unit: m\n",
    "\n",
    "p1=-inclineLength*np.cos(angle),inclineLength*np.sin(angle)\n",
    "p2=0,0\n",
    "p3=horizontalLength,0\n",
    "p4=horizontalLength,thickness\n",
    "p5=0,thickness\n",
    "p6=-inclineLength*np.cos(angle),inclineLength*np.sin(angle)+thickness\n",
    "Bottom=[p1,p2,p3,p4,p5,p6]\n",
    "print(\"<Body mat='2' vx='0' vy='0' thick='1'>\")\n",
    "print(\"<Polygon>\")\n",
    "for i in Bottom:\n",
    "    print(\"<pt x='\"+str(i[0])+\"'\",\"y='\"+str(i[1])+\"'/>\")\n",
    "print(\"</Polygon>\\n</Body>\")\n",
    "# barrier\n",
    "BarrierThickness=0.05\n",
    "BarrierHeight=0.6\n",
    "p7=0.3,0\n",
    "p8=0.3+BarrierThickness,0\n",
    "p9=0.3+BarrierThickness,thickness+BarrierHeight\n",
    "p10=0.3,thickness+BarrierHeight\n",
    "Barrier=[p7,p8,p9,p10]\n",
    "print(\"<Body mat='5' vx='0' vy='0' thick='1'>\")\n",
    "print(\"<Polygon>\")\n",
    "for i in Barrier:\n",
    "    print(\"<pt x='\"+str(i[0])+\"'\",\"y='\"+str(i[1])+\"'/>\")\n",
    "print(\"</Polygon>\\n</Body>\")\n",
    "\n",
    "#Door\n",
    "DoorThickness=0.02\n",
    "DoorHeight=0.5\n",
    "initiateDistance=0.8\n",
    "p11=-initiateDistance*np.cos(angle),initiateDistance*np.sin(angle)+thickness\n",
    "p12=-(initiateDistance-DoorThickness)*np.cos(angle),(initiateDistance-DoorThickness)*np.sin(angle)+thickness\n",
    "p13=p12[0]+DoorHeight*np.sin(angle),p12[1]+DoorHeight*np.cos(angle)\n",
    "p14=p11[0]+DoorHeight*np.sin(angle),p11[1]+DoorHeight*np.cos(angle)\n",
    "Door=[p11,p12,p13,p14]\n",
    "print(\"<Body mat='6' vx='0' vy='0' thick='1'>\")\n",
    "print(\"<Polygon>\")\n",
    "for i in Door:\n",
    "    print(\"<pt x='\"+str(i[0])+\"'\",\"y='\"+str(i[1])+\"'/>\")\n",
    "print(\"</Polygon>\\n</Body>\")\n",
    "\n",
    "#Debris\n",
    "Height=0.315\n",
    "Width=0.18\n",
    "p15=-initiateDistance*np.cos(angle),initiateDistance*np.sin(angle)+thickness\n",
    "p16=p15[0]+Height*np.sin(angle),p15[1]+Height*np.cos(angle)\n",
    "p18=-(initiateDistance+Width)*np.cos(angle),(initiateDistance+Width)*np.sin(angle)+thickness\n",
    "p17=p18[0]+Height*np.sin(angle),p18[1]+Height*np.cos(angle)\n",
    "Debris=[p15,p16,p17,p18]\n",
    "print(\"<Body mat='1' vx='0' vy='0' thick='1'>\")\n",
    "print(\"<Polygon>\")\n",
    "for i in Debris:\n",
    "    print(\"<pt x='\"+str(i[0])+\"'\",\"y='\"+str(i[1])+\"'/>\")\n",
    "print(\"</Polygon>\\n</Body>\")"
   ]
  },
  {
   "cell_type": "code",
   "execution_count": 31,
   "metadata": {},
   "outputs": [
    {
     "data": {
      "image/png": "[encoded data removed]",
      "text/plain": [
       "<matplotlib.figure.Figure at 0x7fa2a9aad940>"
      ]
     },
     "metadata": {},
     "output_type": "display_data"
    }
   ],
   "source": [
    "for i in Debris:\n",
    "    plt.scatter(i[0],i[1])\n",
    "for j in Door:\n",
    "    plt.scatter(j[0],j[1])"
   ]
  },
  {
   "cell_type": "code",
   "execution_count": null,
   "metadata": {},
   "outputs": [],
   "source": []
  }
 ],
 "metadata": {
  "kernelspec": {
   "display_name": "Python 3",
   "language": "python",
   "name": "python3"
  },
  "language_info": {
   "codemirror_mode": {
    "name": "ipython",
    "version": 3
   },
   "file_extension": ".py",
   "mimetype": "text/x-python",
   "name": "python",
   "nbconvert_exporter": "python",
   "pygments_lexer": "ipython3",
   "version": "3.6.4"
  }
 },
 "nbformat": 4,
 "nbformat_minor": 2
}
