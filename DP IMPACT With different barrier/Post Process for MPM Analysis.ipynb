{
 "cells": [
  {
   "cell_type": "code",
   "execution_count": 1,
   "metadata": {
    "collapsed": true
   },
   "outputs": [],
   "source": [
    "import numpy as np\n",
    "import pandas as pd\n",
    "import math \n",
    "import matplotlib.pyplot as plt\n",
    "import os"
   ]
  },
  {
   "cell_type": "markdown",
   "metadata": {},
   "source": [
    "## Define the functions used "
   ]
  },
  {
   "cell_type": "code",
   "execution_count": 2,
   "metadata": {
    "collapsed": true
   },
   "outputs": [],
   "source": [
    "# df: one file that i want to get rid of all the extra words\n",
    "def processdataframe(df):\n",
    "  cleared_df=df[df.data.str.contains(\"[TVZ]\")==False] # why can't put \"[a-zA-Z]\"\n",
    "  rows=len(cleared_df.data)\n",
    "  cleared_df.index=range(1,rows+1)\n",
    "  # \"x y z seqv\\\" \\\"density\\\" \\\"p\\\" \\\"v\\\" \\\"dilation\\\n",
    "  p=cleared_df.data.str.extract('(?P<x>[-+]?[0-9]*\\.?[0-9]+([eE][-+]?[0-9]+)?) (?P<y>[-+]?[0-9]*\\.?[0-9]+([eE][-+]?[0-9]+)?) (?P<z>[-+]?[0-9]*\\.?[0-9]+([eE][-+]?[0-9]+)?) (?P<seqv>[-+]?[0-9]*\\.?[0-9]+([eE][-+]?[0-9]+)?) (?P<density>[-+]?[0-9]*\\.?[0-9]+([eE][-+]?[0-9]+)?) (?P<p>([-+]?\\d*\\.?\\d*+([eE][-+]?[0-9]+)?) (?P<v>\\d\\.\\d*) (?P<dilation>([-+]?\\d*\\.\\d*)|[0])')\n",
    "  del p[1]\n",
    "  del p[3]\n",
    "  del p[5]\n",
    "  del p[7]\n",
    "  del p[9]\n",
    "  del p[11]\n",
    "  del p[13]\n",
    "  p=p.apply(pd.to_numeric, errors='ignore')\n",
    "  p.head()\n",
    "  return p\n",
    "\n",
    "def processdataframe_7variables(df):\n",
    "  cleared_df=df[df.data.str.contains(\"[TVZ]\")==False] # why can't put \"[a-zA-Z]\"\n",
    "  rows=len(cleared_df.data)\n",
    "  cleared_df.index=range(1,rows+1)\n",
    "  p=cleared_df.data.str.extract('(?P<x>[-+]?[0-9]*\\.?[0-9]+([eE][-+]?[0-9]+)?) (?P<y>[-+]?[0-9]*\\.?[0-9]+([eE][-+]?[0-9]+)?) (?P<z>[-+]?[0-9]*\\.?[0-9]+([eE][-+]?[0-9]+)?) (?P<seqv>[-+]?[0-9]*\\.?[0-9]+([eE][-+]?[0-9]+)?) (?P<ep>[-+]?[0-9]*\\.?[0-9]+([eE][-+]?[0-9]+)?) (?P<p>[-+]?[0-9]*\\.?[0-9]+([eE][-+]?[0-9]+)?) (?P<v>\\d\\.\\d*)')\n",
    "  del p[1]\n",
    "  del p[3]\n",
    "  del p[5]\n",
    "  del p[7]\n",
    "  del p[9]\n",
    "  del p[11]\n",
    "  p=p.apply(pd.to_numeric, errors='ignore')\n",
    "  print p.head()\n",
    "  return p\n",
    "\n",
    "def processLab(df):\n",
    "  cleared_df=df[df.data.str.contains(\"[TVZ]\")==False] # why can't put \"[a-zA-Z]\"\n",
    "  rows=len(cleared_df.data)\n",
    "  cleared_df.index=range(1,rows+1)\n",
    "  p=cleared_df.data.str.extract('(?P<x>[-+]?[0-9]*\\.?[0-9]+([eE][-+]?[0-9]+)?) (?P<y>[-+]?[0-9]*\\.?[0-9]+([eE][-+]?[0-9]+)?)')\n",
    "  del p[1]\n",
    "  del p[3]\n",
    "  p=p.apply(pd.to_numeric, errors='ignore')\n",
    "  print p.head()\n",
    "  return p"
   ]
  },
  {
   "cell_type": "code",
   "execution_count": 3,
   "metadata": {
    "collapsed": true
   },
   "outputs": [],
   "source": [
    "#used for cutting the time step\n",
    "#input: 1.df:the dataframe to be processed 2.t:time needed  3.step:the timestep 4.chunkSize:material points range (start and end)   \n",
    "#output: return the timestep needed (around the given time t)\n",
    "def timestep(df,t,step,chunkSize):\n",
    "    listOfDf=list()\n",
    "    numberChumks=len(df)//chunkSize+1\n",
    "    for i in range(numberChumks):\n",
    "        listOfDf.append(df[i*chunkSize:(i+1)*chunkSize])\n",
    "    n=int(t//step)+1\n",
    "    print len(listOfDf) #print the chumks i have, namely the timesteps\n",
    "    return listOfDf[n]\n"
   ]
  },
  {
   "cell_type": "code",
   "execution_count": 4,
   "metadata": {
    "collapsed": true
   },
   "outputs": [],
   "source": [
    "#used for calculating forces impacting on a particular object\n",
    "#pressure: a list that i want to sum over\n",
    "#startpoint: the startpoint of an object\n",
    "#size: the material points that an object has\n",
    "def pressuresum(pressure,startpoint,size):\n",
    "  pressuresum=[]\n",
    "  for i in xrange(startpoint,len(pressure),startpoint+size):\n",
    "    for j in xrange(i,i+size,1):\n",
    "        pressuresum.append(pressure[j])\n",
    "\n",
    "  pressuresum = [0 if math.isnan(x) else x for x in pressuresum]\n",
    "  splittimestep=[pressuresum[i:i+40] for i  in range(0, len(pressuresum), 48)]\n",
    "\n",
    "  sumover_timestep=[]\n",
    "  for k in range(len(splittimestep)):\n",
    "    sumover_timestep.append(sum(splittimestep[k]))\n",
    "  return sumover_timestep\n",
    "\n",
    "# only for 5-m runout, due to the TransitionPoint is [5,0,0] \n",
    "#Input: three lists containing all the coordinates of the material points\n",
    "    #   x,y z\n",
    "def RunoutDistance_depth (x,y,z):\n",
    "    TransitionPoint=np.array([5.0,0,0])\n",
    "    distance=0.0\n",
    "    depth=0.0\n",
    "    for i in range(len(x)):\n",
    "      Position=np.array([x[i],y[i],z[i]])\n",
    "      temp=Position-TransitionPoint\n",
    "      norm=np.array([np.sqrt(3)/2,0.0,0.5])\n",
    "      norm2=np.array([-0.5,0.0,np.sqrt(3)/2])\n",
    "      temp[1]=0\n",
    "      Tdistance=temp.dot(norm.T)\n",
    "      Tdepth=temp.dot(norm2.T)\n",
    "      if Tdistance>distance:\n",
    "        distance=Tdistance\n",
    "      if Tdepth>depth:\n",
    "        depth=Tdepth\n",
    "    return distance,depth #return the norm of the distance\n",
    "    \n",
    "# calculate the flow length\n",
    "def flowLength(x,y,z):\n",
    "    length= max(x)-min(x)\n",
    "    return length\n",
    "\n",
    "#rotate the runout zone: + anti-clockwise, - clockwise\n",
    "def rotation(df,theta):\n",
    "    theta=theta*np.pi/180.0\n",
    "    RotationPoint=np.array([5.0,0,0]) #define the rotation point\n",
    "    RotationMatrix=np.array([[np.cos(theta),0.0,-np.sin(theta)],\n",
    "                             [0.0,1.0,0.0],\n",
    "                             [np.sin(theta),0.0,np.cos(theta)]])\n",
    "    dfarray=df.as_matrix() #convert into an array\n",
    "    xyz=dfarray[:,0:3] #get the first three columns\n",
    "    newxyz=xyz[0,:]\n",
    "    for i in range(len(xyz)):\n",
    "      temp=xyz[i,:]-RotationPoint\n",
    "      Rotated=RotationMatrix.dot(temp.T)\n",
    "      Rotated=Rotated.T# set teh RotationPoint as the origin\n",
    "      newxyz=np.vstack([newxyz,Rotated])\n",
    "        \n",
    "    newxyz=np.delete(newxyz,(0),axis=0)\n",
    "    return newxyz\n",
    "\n"
   ]
  },
  {
   "cell_type": "code",
   "execution_count": 5,
   "metadata": {
    "collapsed": true
   },
   "outputs": [],
   "source": [
    "#return two lists of the local max based on the window\n",
    "    #localmaxy: the max value in a certain window\n",
    "    #localx:    the x value corresbonding to the local max y value\n",
    "# window: every point numbers to get the local maximum\n",
    "# distance: real distance in the figure\n",
    "# df: all the points of one timestep\n",
    "##############################################################\n",
    "#  for different dataframe\n",
    "#  this function should be changed at the \"!!!!!!!!!!!!!!!!!\"\n",
    "#  the column number should be changed, like \"2\" in this function\n",
    "##############################################################\n",
    "def outline(df,window,distance):\n",
    "    delta=1                     #increment of index in the dataframe\n",
    "    sortedx=df.sort_values('x') #sort the dataframe according to column x\n",
    "    sortedx=sortedx.reset_index(drop=True)\n",
    "    startpoint=0                # min x -- change with the moving window \n",
    "    endpoint=len(sortedx)       #df.x.max()   #max x\n",
    "    temp=startpoint             # store the start of the moving window\n",
    "    #print temp,endpoint,len(sortedx)\n",
    "    tempx1=0\n",
    "    tempx2=0                    #for judging the distance\n",
    "    localmaxy=[]\n",
    "    localx=[]\n",
    "    while temp < endpoint-window:\n",
    "        templocalmax=-2             # the y value are all negative values\n",
    "        while temp< (startpoint+window):\n",
    "            temp+=delta\n",
    "            if sortedx.iat[temp,2]>templocalmax:# !!!!!!!!!!!!!!!!!!!!!!!!!\n",
    "                templocalmax=sortedx.iat[temp,2]# !!!!!!!!!!!!!!!!!!!!!!!!!\n",
    "                tempx2=sortedx.iat[temp,0]\n",
    "        if abs(tempx2-tempx1)>distance:\n",
    "            localmaxy.append(templocalmax)\n",
    "            localx.append(tempx2)\n",
    "            tempx1=tempx2\n",
    "        startpoint+=window\n",
    "        temp=startpoint\n",
    "    return localmaxy,localx"
   ]
  },
  {
   "cell_type": "code",
   "execution_count": 34,
   "metadata": {
    "collapsed": true
   },
   "outputs": [],
   "source": [
    "#this version is used to get the maximum of one figure\n",
    "# x: list contains all the horizontal coordinates \n",
    "# y: list contains all the quantity values\n",
    "def outline2(x,y,window,dist):\n",
    "    xy=np.column_stack((x,y))\n",
    "    xy=xy[xy[:,0].argsort()] # sort by the x value of this array\n",
    "    sortedx=pd.DataFrame(data=xy,index=range(len(xy)),columns=['x','y'])\n",
    "    startpoint=0                # min x -- change with the moving window \n",
    "    endpoint=len(sortedx)       #max x\n",
    "    temp=startpoint             # store the start of the moving window\n",
    "    #print temp,endpoint,len(sortedx)\n",
    "    delta=1\n",
    "    tempx1=0\n",
    "    tempx2=0                    #for judging the distance\n",
    "    localmaxy=[]\n",
    "    localx=[]\n",
    "    while temp < endpoint-window:\n",
    "        templocalmax=-2             # the y value are all negative values\n",
    "        while temp< (startpoint+window):\n",
    "            temp+=delta\n",
    "            if sortedx.iat[temp,2]>templocalmax:# !!!!!!!!!!!!!!!!!!!!!!!!!\n",
    "                templocalmax=sortedx.iat[temp,2]# !!!!!!!!!!!!!!!!!!!!!!!!!\n",
    "                tempx2=sortedx.iat[temp,0]\n",
    "        if abs(tempx2-tempx1)>dist:\n",
    "            localmaxy.append(templocalmax)\n",
    "            localx.append(tempx2)\n",
    "            tempx1=tempx2\n",
    "        startpoint+=window\n",
    "        temp=startpoint\n",
    "    return localx,localmaxy"
   ]
  },
  {
   "cell_type": "code",
   "execution_count": null,
   "metadata": {
    "collapsed": true
   },
   "outputs": [],
   "source": [
    "def AvgInDist(x,y,Dist):\n",
    "    \n",
    "    "
   ]
  },
  {
   "cell_type": "markdown",
   "metadata": {},
   "source": [
    "## Process the file seperately"
   ]
  },
  {
   "cell_type": "markdown",
   "metadata": {},
   "source": [
    "## 1. runout"
   ]
  },
  {
   "cell_type": "code",
   "execution_count": 16,
   "metadata": {},
   "outputs": [
    {
     "name": "stderr",
     "output_type": "stream",
     "text": [
      "D:\\aconda2\\lib\\site-packages\\ipykernel\\__main__.py:23: FutureWarning: currently extract(expand=None) means expand=False (return Index/Series/DataFrame) but in a future version of pandas this will be changed to expand=True (return DataFrame)\n"
     ]
    },
    {
     "name": "stdout",
     "output_type": "stream",
     "text": [
      "          x         y         z          seqv      ep             p         v\n",
      "1  0.317722 -0.228717  0.154070  1.726790e-13  2650.0 -2.469260e-13  0.099389\n",
      "2  0.282882 -0.233886  0.162761  6.688240e-13  2650.0 -1.090590e-12  0.099389\n",
      "3  0.315517 -0.255470  0.162745  1.394990e-12  2650.0  0.000000e+00  0.099389\n",
      "4  0.271118 -0.282862  0.140302  1.639630e-12  2650.0 -2.963110e-12  0.099389\n",
      "5  0.263335 -0.278931  0.171587  2.518240e-14  2650.0  3.601000e-14  0.099389\n"
     ]
    }
   ],
   "source": [
    "path='../../presentation/2017-work report/rouout/mate 2 2650 1e7  0.4 0 0.40375 0 0 0 0/runout.dat'\n",
    "\n",
    "df=pd.read_csv(path,names=['data'])\n",
    "df=processdataframe_7variables(df)\n",
    "\n",
    "labdataPath='../../presentation/2017-work report/rouout/comparisons/deposition depth.xlsx'\n",
    "lab_deposition=pd.read_excel(labdataPath,header=None)\n",
    "\n",
    "labdataPath='../../presentation/2017-work report/rouout/comparisons/flow depth.xlsx'\n",
    "lab_flowDepth=pd.read_excel(labdataPath,header=None)\n",
    "\n",
    "labdataPath='../../presentation/2017-work report/rouout/comparisons/frontal velocity.xlsx'\n",
    "lab_velocity=pd.read_excel(labdataPath,header=None)"
   ]
  },
  {
   "cell_type": "code",
   "execution_count": 39,
   "metadata": {},
   "outputs": [
    {
     "name": "stdout",
     "output_type": "stream",
     "text": [
      "301\n",
      "              x         y         z      seqv       ep           p         v\n",
      "672217  5.41886 -0.228717  0.438727  789.7510  2001.03 -1129.32000  0.055001\n",
      "672218  5.37825 -0.233886  0.430655    3.1061  1871.48     4.44162  0.028092\n",
      "672219  5.42921 -0.255470  0.452734  747.6020  1830.43 -1069.05000  0.059540\n",
      "672220  5.33224 -0.282862  0.388232  423.7400  1767.28  -605.93500  0.006144\n",
      "672221  5.36580 -0.278931  0.430252   31.8010  1638.59   -45.47450  0.001850\n"
     ]
    },
    {
     "data": {
      "image/png": "[encoded data removed]",
      "text/plain": [
       "<matplotlib.figure.Figure at 0x113bf748>"
      ]
     },
     "metadata": {},
     "output_type": "display_data"
    }
   ],
   "source": [
    "# deposition profile\n",
    "m_3s=timestep(df,3,0.0101419,2271)\n",
    "print m_3s.head()\n",
    "rotated=rotation(m_3s,-30)\n",
    "#plot the deposition data\n",
    "labshift=lab_deposition[0]+0.95\n",
    "plt.plot(labshift,lab_deposition[1].tolist(),linewidth=3,color='r',label='lab data')\n",
    "plt.scatter(rotated[:,0],rotated[:,2])\n",
    "plt.ylim(-0.2,1)\n",
    "plt.legend()\n",
    "plt.xlabel('Travel Distance (m)', fontsize=16)\n",
    "plt.ylabel('Average flow depth (m)', fontsize=16)\n",
    "plt.savefig(\"C:/Users/ChaoWANG/OneDrive - HKUST Connect/presentation/2017-7-11/figure/depopoints.png\",dpi=3000)\n",
    "plt.show()\n",
    "plt.close()"
   ]
  },
  {
   "cell_type": "code",
   "execution_count": 29,
   "metadata": {},
   "outputs": [
    {
     "data": {
      "image/png": "[encoded data removed]",
      "text/plain": [
       "<matplotlib.figure.Figure at 0xb2b4ba8>"
      ]
     },
     "metadata": {},
     "output_type": "display_data"
    }
   ],
   "source": [
    "dfrotation=pd.DataFrame(data=rotated,\n",
    "                        index=range(len(rotated)),columns=['x','y','z'])\n",
    "outliney,outlinex=outline(dfrotation,10,0.05)\n",
    "outlinex[:]=[x-0.95 for x in outlinex]\n",
    "mpm=plt.plot(outlinex[19:],outliney[19:],label='computed')\n",
    "lab=plt.scatter(lab_deposition[0].tolist(),lab_deposition[1].tolist(),color='r',label='lab data')\n",
    "plt.legend()\n",
    "plt.xlabel('Runout Distance (m)', fontsize=16)\n",
    "plt.ylabel('Deposition depth (m)', fontsize=16)\n",
    "plt.savefig(\"C:/Users/ChaoWANG/OneDrive - HKUST Connect/presentation/2017-7-11/figure/deposition.png\",dpi=3000)\n",
    "plt.show()\n",
    "plt.close()"
   ]
  },
  {
   "cell_type": "code",
   "execution_count": null,
   "metadata": {
    "collapsed": true
   },
   "outputs": [],
   "source": [
    "#average flow depth comparison\n",
    "m_3s=timestep(df,1,0.0101419,2271)\n",
    "plt.scatter(m_3s.x,m_3s.z)\n",
    "plt.ylim(-0.1,0.2)\n",
    "plt.show()\n",
    "runout,depth=RunoutDistance_depth(m_3s.x.tolist(),m_3s.y.tolist(),m_3s.z.tolist())\n",
    "length=flowLength(m_3s.x,m_3s.y,m_3s.z)\n",
    "print runout,depth,length"
   ]
  },
  {
   "cell_type": "code",
   "execution_count": null,
   "metadata": {
    "collapsed": true
   },
   "outputs": [],
   "source": [
    "outliney,outlinex=outline(m_3s,10,0.2)\n",
    "plt.scatter(outlinex,outliney)\n",
    "plt.xlim(1,5)\n",
    "plt.ylim(-0.2,0.2)\n",
    "plt.show()"
   ]
  },
  {
   "cell_type": "code",
   "execution_count": 38,
   "metadata": {},
   "outputs": [
    {
     "name": "stdout",
     "output_type": "stream",
     "text": [
      "301\n",
      "301\n",
      "301\n",
      "301\n",
      "301\n",
      "301\n",
      "301\n",
      "301\n",
      "301\n",
      "301\n"
     ]
    },
    {
     "data": {
      "image/png": "[encoded data removed]",
      "text/plain": [
       "<matplotlib.figure.Figure at 0xb452668>"
      ]
     },
     "metadata": {},
     "output_type": "display_data"
    }
   ],
   "source": [
    "#outline of the debris flow\n",
    "distx=[]\n",
    "avgdepth=[]\n",
    "for i in range(10):\n",
    "    mtemp=timestep(df,i/10.,0.0101419,2271)# pay attention to the integer divide\n",
    "    outliney,outlinex=outline(mtemp,10,0.2) \n",
    "    distx.append(mtemp.x.max())\n",
    "    avgdepth.append(sum(outliney)/len(outliney))\n",
    "mpmavg=plt.scatter(lab_flowDepth[0]*5,lab_flowDepth[1],color='r',label='lab data')\n",
    "labavg=plt.plot(distx,avgdepth,label='computed')\n",
    "plt.legend()\n",
    "plt.xlabel('Travel Distance (m)', fontsize=16)\n",
    "plt.ylabel('Average flow depth (m)', fontsize=16)\n",
    "plt.savefig(\"C:/Users/ChaoWANG/OneDrive - HKUST Connect/presentation/2017-7-11/figure/avgflowdepth.png\",dpi=3000)\n",
    "plt.show()\n",
    "plt.close()"
   ]
  },
  {
   "cell_type": "code",
   "execution_count": 35,
   "metadata": {},
   "outputs": [
    {
     "name": "stdout",
     "output_type": "stream",
     "text": [
      "301\n",
      "301\n",
      "301\n",
      "301\n",
      "301\n",
      "301\n",
      "301\n",
      "301\n",
      "301\n",
      "301\n"
     ]
    },
    {
     "data": {
      "image/png": "[encoded data removed]",
      "text/plain": [
       "<matplotlib.figure.Figure at 0x294f59e8>"
      ]
     },
     "metadata": {},
     "output_type": "display_data"
    }
   ],
   "source": [
    "v_distx=[]\n",
    "velocity=[]\n",
    "for i in range(10):\n",
    "    mtemp=timestep(df,i/10.,0.0101419,2271)# pay attention to the integer divide \n",
    "    v_distx.append(mtemp.x.max())\n",
    "    velocity.append(mtemp.v.max())\n",
    "velocity[:]=[x/2 for x in velocity]\n",
    "plt.plot(v_distx,velocity,label='computed')\n",
    "plt.scatter(lab_velocity[0]*5,lab_velocity[1],color='r',label='lab data')\n",
    "plt.legend(loc='lower right')\n",
    "plt.xlabel('Travel Distance (m)', fontsize=16)\n",
    "plt.ylabel('Frontal velocity (m)', fontsize=16)\n",
    "plt.savefig(\"C:/Users/ChaoWANG/OneDrive - HKUST Connect/presentation/2017-7-11/figure/velocity.png\",dpi=3000)\n",
    "plt.show()\n",
    "plt.close()"
   ]
  },
  {
   "cell_type": "markdown",
   "metadata": {},
   "source": [
    "## 2. impact"
   ]
  },
  {
   "cell_type": "code",
   "execution_count": 21,
   "metadata": {},
   "outputs": [
    {
     "ename": "NameError",
     "evalue": "name 'tasks' is not defined",
     "output_type": "error",
     "traceback": [
      "\u001b[0;31m---------------------------------------------------------------------------\u001b[0m",
      "\u001b[0;31mNameError\u001b[0m                                 Traceback (most recent call last)",
      "\u001b[0;32m<ipython-input-21-accd170fc9d2>\u001b[0m in \u001b[0;36m<module>\u001b[0;34m()\u001b[0m\n\u001b[1;32m     19\u001b[0m \u001b[1;33m\u001b[0m\u001b[0m\n\u001b[1;32m     20\u001b[0m \u001b[1;33m\u001b[0m\u001b[0m\n\u001b[0;32m---> 21\u001b[0;31m \u001b[0mplot_v1\u001b[0m\u001b[1;33m(\u001b[0m\u001b[0mtasks\u001b[0m\u001b[1;33m)\u001b[0m\u001b[1;33m;\u001b[0m\u001b[1;33m\u001b[0m\u001b[0m\n\u001b[0m",
      "\u001b[0;31mNameError\u001b[0m: name 'tasks' is not defined"
     ]
    }
   ],
   "source": [
    "def plot_v1(data):\n",
    "    # Create the figure and axis objects I'll be plotting on\n",
    "    fig, ax = plt.subplots()\n",
    "    \n",
    "    # Plot the bars\n",
    "    ax.bar(np.arange(len(data)), data, align='center')\n",
    "    \n",
    "    # \n",
    "    ax.hlines(19.5, -0.5, 5.5, linestyle='--', linewidth=1)\n",
    "    \n",
    "    # Set a reasonable y-axis limit\n",
    "    ax.set_ylim(0, 40)\n",
    "    \n",
    "    # Apply labels to the bars so you know which is which\n",
    "    ax.set_xticks(np.arange(len(data)))\n",
    "    ax.set_xticklabels([\"\\n\".join(x) for x in data.index])\n",
    "    \n",
    "    return fig, ax\n",
    "\n",
    "\n",
    "plot_v1(tasks);"
   ]
  },
  {
   "cell_type": "code",
   "execution_count": 6,
   "metadata": {},
   "outputs": [
    {
     "name": "stderr",
     "output_type": "stream",
     "text": [
      "/home/wangchao/anaconda2/lib/python2.7/site-packages/ipykernel_launcher.py:23: FutureWarning: currently extract(expand=None) means expand=False (return Index/Series/DataFrame) but in a future version of pandas this will be changed to expand=True (return DataFrame)\n"
     ]
    },
    {
     "name": "stdout",
     "output_type": "stream",
     "text": [
      "          x         y         z       seqv       ep         p         v\n",
      "1 -0.375213  0.009997  0.251537   0.959372  2650.13  -835.766  0.078093\n",
      "2 -0.369566  0.009996  0.247826  10.000000  2650.15  -953.381  0.079033\n",
      "3 -0.363918  0.009996  0.244114  10.000000  2650.17 -1045.670  0.080133\n",
      "4 -0.358271  0.009995  0.240402  10.000000  2650.13  -799.710  0.081508\n",
      "5 -0.352623  0.009995  0.236690  10.000000  2650.08  -531.134  0.083205\n"
     ]
    }
   ],
   "source": [
    "# deposition profile \n",
    "#path2='F:\\\\output\\\\slump2\\\\impact\\\\3\\\\impact.dat'\n",
    "path2='../../presentation/2017-work report/impact/inertial num/30/impact.dat'\n",
    "df2=pd.read_csv(path2,names=['data'])\n",
    "df2=processdataframe_7variables(df2)"
   ]
  },
  {
   "cell_type": "code",
   "execution_count": 7,
   "metadata": {},
   "outputs": [
    {
     "name": "stderr",
     "output_type": "stream",
     "text": [
      "/home/wangchao/anaconda2/lib/python2.7/site-packages/ipykernel_launcher.py:23: FutureWarning: currently extract(expand=None) means expand=False (return Index/Series/DataFrame) but in a future version of pandas this will be changed to expand=True (return DataFrame)\n"
     ]
    },
    {
     "name": "stdout",
     "output_type": "stream",
     "text": [
      "          x         y         z          seqv       ep        p         v\n",
      "1 -0.374868  0.009998  0.251520  2.876990e-01  2650.11 -775.713  0.109770\n",
      "2 -0.369222  0.009998  0.247810  3.531220e-10  2650.12 -734.862  0.110818\n",
      "3 -0.363577  0.009997  0.244099  4.822030e-10  2650.12 -753.628  0.111861\n",
      "4 -0.357932  0.009997  0.240388  1.000000e+01  2650.11 -689.274  0.112956\n",
      "5 -0.352286  0.009997  0.236677  1.000000e+01  2650.08 -473.346  0.114154\n"
     ]
    }
   ],
   "source": [
    "# deposition profile \n",
    "#path2='F:\\\\output\\\\slump2\\\\impact\\\\3\\\\impact.dat'\n",
    "path40='../../presentation/2017-work report/impact/inertial num/40/impact.dat'\n",
    "df40=pd.read_csv(path40,names=['data'])\n",
    "df40=processdataframe_7variables(df40)"
   ]
  },
  {
   "cell_type": "code",
   "execution_count": 8,
   "metadata": {},
   "outputs": [
    {
     "name": "stderr",
     "output_type": "stream",
     "text": [
      "/home/wangchao/anaconda2/lib/python2.7/site-packages/ipykernel_launcher.py:23: FutureWarning: currently extract(expand=None) means expand=False (return Index/Series/DataFrame) but in a future version of pandas this will be changed to expand=True (return DataFrame)\n"
     ]
    },
    {
     "name": "stdout",
     "output_type": "stream",
     "text": [
      "          x         y         z          seqv       ep        p         v\n",
      "1 -0.374571  0.009999  0.251570  4.829120e-01  2650.07 -529.501  0.135995\n",
      "2 -0.368928  0.009998  0.247861  1.487200e-01  2650.07 -449.246  0.137017\n",
      "3 -0.363284  0.009998  0.244151  8.833550e-10  2650.07 -422.179  0.138007\n",
      "4 -0.357640  0.009998  0.240442  1.000000e+01  2650.11 -678.142  0.138927\n",
      "5 -0.351997  0.009998  0.236732  1.000000e+01  2650.08 -475.102  0.139764\n"
     ]
    }
   ],
   "source": [
    "# deposition profile \n",
    "#path2='F:\\\\output\\\\slump2\\\\impact\\\\3\\\\impact.dat'\n",
    "path50='../../presentation/2017-work report/impact/inertial num/50/impact.dat'\n",
    "df50=pd.read_csv(path50,names=['data'])\n",
    "df50=processdataframe_7variables(df50)"
   ]
  },
  {
   "cell_type": "code",
   "execution_count": 19,
   "metadata": {},
   "outputs": [
    {
     "name": "stdout",
     "output_type": "stream",
     "text": [
      "101\n"
     ]
    },
    {
     "data": {
      "image/png": "[encoded data removed]",
      "text/plain": [
       "<matplotlib.figure.Figure at 0x7f3c4ae06dd0>"
      ]
     },
     "metadata": {},
     "output_type": "display_data"
    }
   ],
   "source": [
    "impact2=timestep(df2,1.0,0.020017,15870)\n",
    "shearalongdepth2=[]\n",
    "depth2=[]\n",
    "for i in range(len(impact2)):\n",
    "    if impact2.iat[i,2]>0.198 and impact2.iat[i,2]<0.2:\n",
    "        shearalongdepth2.append(impact2.iat[i,3])\n",
    "        depth2.append(impact2.iat[i,0])\n",
    "plt.scatter(impact2.x.tolist(),impact2.z.tolist())\n",
    "plt.plot([0.95,1.25],[0.2,0.2],color='r')\n",
    "plt.xlabel('Travel Distance (m)', fontsize=16)\n",
    "plt.ylabel('Flow depth (m)', fontsize=16)\n",
    "#plt.savefig(\"C:/Users/ChaoWANG/OneDrive - HKUST Connect/presentation/2017-7-11/figure/30scatter.png\",dpi=3000)\n",
    "plt.show()\n",
    "plt.close()"
   ]
  },
  {
   "cell_type": "code",
   "execution_count": 20,
   "metadata": {},
   "outputs": [
    {
     "data": {
      "image/png": "[encoded data removed]",
      "text/plain": [
       "<matplotlib.figure.Figure at 0x7f3c4ad70b90>"
      ]
     },
     "metadata": {},
     "output_type": "display_data"
    }
   ],
   "source": [
    "plt.scatter(depth2,shearalongdepth2)\n",
    "plt.ylim(0,5)\n",
    "plt.xlabel('X coordinate (m)', fontsize=16)\n",
    "plt.ylabel('Inertial Number', fontsize=16)\n",
    "#plt.savefig(\"C:/Users/ChaoWANG/OneDrive - HKUST Connect/presentation/2017-7-11/figure/30.png\",dpi=3000)\n",
    "plt.show()\n",
    "plt.close()"
   ]
  },
  {
   "cell_type": "code",
   "execution_count": 12,
   "metadata": {},
   "outputs": [
    {
     "name": "stdout",
     "output_type": "stream",
     "text": [
      "99\n"
     ]
    },
    {
     "data": {
      "image/png": "[encoded data removed]",
      "text/plain": [
       "<matplotlib.figure.Figure at 0x7f3c1a825650>"
      ]
     },
     "metadata": {},
     "output_type": "display_data"
    },
    {
     "data": {
      "image/png": "[encoded data removed]",
      "text/plain": [
       "<matplotlib.figure.Figure at 0x7f3c4105ec90>"
      ]
     },
     "metadata": {},
     "output_type": "display_data"
    }
   ],
   "source": [
    "impact40=timestep(df40,0.65,0.020017,15870)\n",
    "shearalongdepth40=[]\n",
    "depth40=[]\n",
    "for i in range(len(impact40)):\n",
    "    if impact40.iat[i,2]>0.19 and impact40.iat[i,2]<0.2:\n",
    "        shearalongdepth40.append(impact40.iat[i,3])\n",
    "        depth40.append(impact40.iat[i,0])\n",
    "plt.scatter(impact40.x.tolist(),impact40.z.tolist())\n",
    "plt.plot([1.1,1.25],[0.2,0.2],color='r')\n",
    "plt.xlabel('Travel Distance (m)', fontsize=16)\n",
    "plt.ylabel('Flow depth (m)', fontsize=16)\n",
    "#plt.savefig(\"C:/Users/ChaoWANG/OneDrive - HKUST Connect/presentation/2017-7-11/figure/40scatter.png\",dpi=3000)\n",
    "plt.show()\n",
    "plt.close()\n",
    "plt.scatter(depth40,shearalongdepth40)\n",
    "plt.ylim(0,5)\n",
    "plt.xlabel('X coordinate (m)', fontsize=16)\n",
    "plt.ylabel('Inertial Number', fontsize=16)\n",
    "#plt.savefig(\"C:/Users/ChaoWANG/OneDrive - HKUST Connect/presentation/2017-7-11/figure/40.png\",dpi=3000)\n",
    "plt.show()\n",
    "plt.close()"
   ]
  },
  {
   "cell_type": "code",
   "execution_count": null,
   "metadata": {
    "collapsed": true
   },
   "outputs": [],
   "source": [
    "impact50=timestep(df50,1.0,0.020017,15870)\n",
    "shearalongdepth50=[]\n",
    "depth50=[]\n",
    "for i in range(len(impact50)):\n",
    "    if impact50.iat[i,2]>0.0998 and impact50.iat[i,2]<0.1:\n",
    "        shearalongdepth50.append(impact50.iat[i,3])\n",
    "        depth50.append(impact50.iat[i,0])        \n",
    "plt.scatter(depth50,shearalongdepth50)\n",
    "plt.show()"
   ]
  },
  {
   "cell_type": "code",
   "execution_count": 64,
   "metadata": {},
   "outputs": [
    {
     "data": {
      "image/png": "[encoded data removed]",
      "text/plain": [
       "<matplotlib.figure.Figure at 0x11e19320>"
      ]
     },
     "metadata": {},
     "output_type": "display_data"
    }
   ],
   "source": []
  },
  {
   "cell_type": "code",
   "execution_count": null,
   "metadata": {
    "collapsed": true
   },
   "outputs": [],
   "source": []
  }
 ],
 "metadata": {
  "anaconda-cloud": {},
  "kernelspec": {
   "display_name": "Python 3",
   "language": "python",
   "name": "python3"
  },
  "language_info": {
   "codemirror_mode": {
    "name": "ipython",
    "version": 3
   },
   "file_extension": ".py",
   "mimetype": "text/x-python",
   "name": "python",
   "nbconvert_exporter": "python",
   "pygments_lexer": "ipython3",
   "version": "3.6.3"
  }
 },
 "nbformat": 4,
 "nbformat_minor": 1
}
