{
 "cells": [
  {
   "cell_type": "markdown",
   "metadata": {},
   "source": [
    "  # Import the files & generate multi dataframes"
   ]
  },
  {
   "cell_type": "code",
   "execution_count": 2,
   "metadata": {
    "collapsed": true
   },
   "outputs": [],
   "source": [
    "import numpy as np\n",
    "import pandas as pd\n",
    "import math \n",
    "import matplotlib.pyplot as plt\n",
    "import os\n",
    "import itertools"
   ]
  },
  {
   "cell_type": "markdown",
   "metadata": {},
   "source": [
    "## Definition of functions "
   ]
  },
  {
   "cell_type": "code",
   "execution_count": 3,
   "metadata": {
    "collapsed": true
   },
   "outputs": [],
   "source": [
    "# generate dataframes -- convert string table into the double table\n",
    "import re,glob\n",
    "def numericalpart(value): # will return the first number in the string \n",
    "    number=re.compile(r\"(\\d+)\")\n",
    "    parts=number.split(value)\n",
    "    return int(parts[1])\n",
    "\n",
    "def GenerateDflist(PATH):\n",
    "    dflist=[]\n",
    "    filelist_temp=sorted( glob.glob(PATH) , key = numericalpart )\n",
    "    num=0\n",
    "    for i in filelist_temp:\n",
    "        time=num*0.04 # archive time is every 0.04 s\n",
    "        temp_str=pd.read_csv(i,names=['Time'+str(time)])\n",
    "        rows=len( temp_str['Time'+str(time)] )\n",
    "        temp_str.index=range(1,rows+1)\n",
    "        temp=temp_str['Time'+str(time)].str.split(r'\\t',expand=True) # split into multi columns\n",
    "        columns=['x','y','mat','mass','velx','vely','dispx','dispy','sxx','syy','sxy','pressure',\n",
    "         'vonmises','exx','eyy','exy','pexx','peyy','pexy','equivstrain','strerg','work']\n",
    "        temp.columns=columns # rename the columns\n",
    "        temp=temp.apply(pd.to_numeric)\n",
    "        dflist.append(temp)\n",
    "        num=num+1\n",
    "    return dflist"
   ]
  },
  {
   "cell_type": "code",
   "execution_count": 4,
   "metadata": {
    "collapsed": true
   },
   "outputs": [],
   "source": [
    "# the path should not contain number !!!!!!!!!!!!!!!!\n",
    "path_rigid='Rigid/All/'\n",
    "path_5Mpa='FiveMpa/All/' # this time step is a little bit different\n",
    "path_20Mpa='TwentyMpa/All/'\n",
    "path_80Mpa='EightyMpa/All/'\n",
    "Figure_path='Figure/'"
   ]
  },
  {
   "cell_type": "markdown",
   "metadata": {},
   "source": [
    "## Read into the data and convert "
   ]
  },
  {
   "cell_type": "code",
   "execution_count": 5,
   "metadata": {
    "collapsed": true
   },
   "outputs": [],
   "source": [
    "filelist_rigid=GenerateDflist(path_rigid+'All_*.txt')"
   ]
  },
  {
   "cell_type": "code",
   "execution_count": 6,
   "metadata": {
    "collapsed": true
   },
   "outputs": [],
   "source": [
    "filelist_20Mpa=GenerateDflist(path_20Mpa+'All_*.txt')"
   ]
  },
  {
   "cell_type": "code",
   "execution_count": 7,
   "metadata": {
    "collapsed": true
   },
   "outputs": [],
   "source": [
    "filelist_5Mpa=GenerateDflist(path_5Mpa+'All_*.txt')"
   ]
  },
  {
   "cell_type": "code",
   "execution_count": 8,
   "metadata": {
    "collapsed": true
   },
   "outputs": [],
   "source": [
    "filelist_80Mpa=GenerateDflist(path_80Mpa+'All_*.txt')"
   ]
  },
  {
   "cell_type": "markdown",
   "metadata": {
    "collapsed": true
   },
   "source": [
    "# Plotting"
   ]
  },
  {
   "cell_type": "markdown",
   "metadata": {},
   "source": [
    "## Definition of functions"
   ]
  },
  {
   "cell_type": "code",
   "execution_count": 9,
   "metadata": {
    "collapsed": true
   },
   "outputs": [],
   "source": [
    "############## Fit by polynominal ########################################### \n",
    "# INPUT: list x , list y\n",
    "#        order: the order of polynominal\n",
    "#        step: step of the fitted function\n",
    "# OUTPUT: function \n",
    "#         xval, yval  (within the range of list x and list y)\n",
    "\n",
    "def PolyFit(x,y,order,step):\n",
    "    z1=np.polyfit(x,y,order)\n",
    "    function=np.poly1d(z1)\n",
    "    xval=np.arange(min(x),max(x),step)\n",
    "    yval=np.polyval(z1,xval)\n",
    "    return function,xval,yval\n",
    "#############################################################################\n"
   ]
  },
  {
   "cell_type": "code",
   "execution_count": 10,
   "metadata": {
    "collapsed": true
   },
   "outputs": [],
   "source": [
    "############## Moving average ############################################### \n",
    "# INPUT: list x , list y\n",
    "# OUTPUT:val_x, val_y  (within the range of list x and list y)\n",
    "def moving_average(interval, window_size):\n",
    "    ''' Coupute convoluted window for given size'''\n",
    "    window = np.ones( int (window_size) ) /float( window_size)\n",
    "    return np.convolve( interval, window,'same' )\n",
    "\n",
    "#############################################################################"
   ]
  },
  {
   "cell_type": "code",
   "execution_count": 11,
   "metadata": {
    "collapsed": true
   },
   "outputs": [],
   "source": [
    "############## Scatter ###################################################### \n",
    "# INPUT: list x , list y\n",
    "# OUTPUT:Figure\n",
    "#############################################################################"
   ]
  },
  {
   "cell_type": "markdown",
   "metadata": {},
   "source": [
    "## run up height against stiffness"
   ]
  },
  {
   "cell_type": "code",
   "execution_count": 111,
   "metadata": {
    "slideshow": {
     "slide_type": "slide"
    }
   },
   "outputs": [
    {
     "name": "stdout",
     "output_type": "stream",
     "text": [
      "315.0\n",
      "3.8729833462074175\n",
      "195.0\n"
     ]
    },
    {
     "data": {
      "image/png": "[encoded data removed]",
      "text/plain": [
       "<matplotlib.figure.Figure at 0x7f841ab674a8>"
      ]
     },
     "metadata": {},
     "output_type": "display_data"
    }
   ],
   "source": [
    "h=0.03 #unit m\n",
    "vx= 2.1# m/s\n",
    "g=9.8 # m/s^2\n",
    "theta= 40.* np.pi/180\n",
    "froude=vx/np.sqrt(g*h)\n",
    "\n",
    "# energy approach\n",
    "#h_f= (1+ vx**2/(g*h*np.cos(theta)))\n",
    "h_f=h*10.5*1000\n",
    "print (h_f)\n",
    "print (froude)\n",
    "# continuum approach\n",
    "h_f2=6.5*0.03*1000\n",
    "print (h_f2)\n",
    "#simulation \n",
    "E=[5,20,80,200]\n",
    "hf=[244,269,295,299]\n",
    "\n",
    "plt.plot\n",
    "plt.scatter(E,hf,label='Calculated')\n",
    "plt.xlabel(\"Young's modulus (MPa)\", fontsize=14)\n",
    "plt.ylabel('Runup height (mm)', fontsize=14)\n",
    "\n",
    "horiz_line_data = np.array([h_f for i in range(len(E))])\n",
    "plt.plot(E, horiz_line_data, 'r--',label='Energy principle')\n",
    "\n",
    "horiz_line_data = np.array([h_f2 for i in range(len(E))])\n",
    "plt.plot(E, horiz_line_data, 'b-.',label='Momentumn equation (Johannesson $ et\\ al$. 2009)')\n",
    "\n",
    "horiz_line_data = np.array([265 for i in range(len(E))])\n",
    "plt.plot(E, horiz_line_data, 'b-',label=r'Experiment (Ng $\\  et \\  al. 2017)$')\n",
    "\n",
    "#plt.title('Runup height '\n",
    "plt.ylim(0,350)\n",
    "name='runupheight.png'\n",
    "plt.legend()\n",
    "plt.savefig(Figure_path+'/RunupHeight/'+name,dpi=300)\n",
    "plt.show()"
   ]
  },
  {
   "cell_type": "markdown",
   "metadata": {},
   "source": [
    "## Velocity distribution along depth"
   ]
  },
  {
   "cell_type": "code",
   "execution_count": 13,
   "metadata": {
    "collapsed": true
   },
   "outputs": [],
   "source": [
    "marker=itertools.cycle( ('^','+','o','s','p','x') )\n",
    "linetype=itertools.cycle( [':','-','-.'] ) "
   ]
  },
  {
   "cell_type": "markdown",
   "metadata": {},
   "source": [
    "### Different position at the same time"
   ]
  },
  {
   "cell_type": "code",
   "execution_count": 14,
   "metadata": {
    "collapsed": true
   },
   "outputs": [],
   "source": [
    "debris,base,barrier=[\"mat==1\",\"mat==2\",\"mat==3\"]\n",
    "Timestep=np.arange(18,40,2)\n",
    "position=[\"x>700 & x<702\",\"x>800 & x<802\", \"x>900 & x<902\",\n",
    "          \"x>1000& x<1002\",\"x>1100 & x<1102\",\"x<1200 & x>1197\"]\n",
    "for j in range(len(Timestep)):\n",
    "    for i in range(0,len(position)-3):\n",
    "        filtCondition=debris +'&'+position[i]\n",
    "        filtered=filelist_rigid[Timestep[j]].query( filtCondition )\n",
    "        function,x,y= PolyFit(filtered.velx,filtered.y,2,5)\n",
    "        #print(function)\n",
    "        lb=' x= '+ str( numericalpart(position[i]) ) + ' mm'\n",
    "        plt.scatter(filtered.velx,filtered.y,label= lb, marker=next(marker))\n",
    "        plt.plot(x,y,label='Fitted data'+lb,linestyle=next(linetype))\n",
    "    plt.legend()\n",
    "    #plt.xlim(1000,)\n",
    "    plt.ylim(0,)\n",
    "    plt.xlabel('velocity in flow direction (mm/s)', fontsize=14)\n",
    "    plt.ylabel('flow height (mm)', fontsize=14)\n",
    "    plt.title('Time='+str(Timestep[j]*0.04)+' s')\n",
    "    name='Position x=[700,900] Time='+str(Timestep[j]*0.04)+'s.png'\n",
    "    plt.savefig(Figure_path+'/VelxDistributionRigid/SameTime/'+name,dpi=300)\n",
    "    #plt.show()\n",
    "    plt.close()"
   ]
  },
  {
   "cell_type": "code",
   "execution_count": 15,
   "metadata": {
    "collapsed": true
   },
   "outputs": [],
   "source": [
    "for j in range(len(Timestep)):\n",
    "    for i in range(3,len(position)):\n",
    "        filtCondition=debris +'&'+position[i]\n",
    "        filtered=filelist_rigid[Timestep[j]].query( filtCondition )\n",
    "        function,x,y= PolyFit(filtered.velx,filtered.y,2,5)\n",
    "        #print(function)\n",
    "        lb=' x= '+ str( numericalpart(position[i]) ) + ' mm'\n",
    "        plt.scatter(filtered.velx,filtered.y,label= lb, marker=next(marker))\n",
    "        plt.plot(x,y,label='Fitted data'+lb,linestyle=next(linetype))\n",
    "    plt.legend()\n",
    "    plt.ylim(0,)\n",
    "    plt.xlabel('velocity in flow direction (mm/s)', fontsize=14)\n",
    "    plt.ylabel('flow height (mm)', fontsize=14)\n",
    "    plt.title('Time='+str(Timestep[j]*0.04)+' s')\n",
    "    name='Position x=[1000,1200] Time='+str(Timestep[j]*0.04)+'s.png'\n",
    "    plt.savefig(Figure_path+'/VelxDistributionRigid/SameTime/'+name,dpi=300)\n",
    "    #plt.show()\n",
    "    plt.close()"
   ]
  },
  {
   "cell_type": "markdown",
   "metadata": {},
   "source": [
    "### Smae position of different time "
   ]
  },
  {
   "cell_type": "code",
   "execution_count": 16,
   "metadata": {
    "collapsed": true
   },
   "outputs": [],
   "source": [
    "linetype=itertools.cycle( [':','-','--','-.'] ) \n",
    "marker=itertools.cycle( ('^','+','o','s') )\n",
    "Timestep=np.arange(20,28,2)\n",
    "position=[\"x>700 & x<702\",\"x>800 & x<802\", \"x>900 & x<902\",\n",
    "          \"x>1000& x<1002\",\"x>1100 & x<1102\",\"x<1200 & x>1197\"]\n",
    "for i in range(0,len(position)-3):\n",
    "    for j in range(len(Timestep)):\n",
    "        filtCondition=debris +'&'+position[i]\n",
    "        filtered=filelist_rigid[Timestep[j]].query( filtCondition )\n",
    "        function,x,y= PolyFit(filtered.velx,filtered.y,2,5)\n",
    "        #print(function)\n",
    "        lb=' t= '+ str( Timestep[j]*0.04 ) + ' s'\n",
    "        plt.scatter(filtered.velx,filtered.y,label= lb, marker=next(marker))\n",
    "        plt.plot(x,y,label='Fitted data'+lb,linestyle=next(linetype))\n",
    "    plt.legend()\n",
    "    #plt.xlim(1000,)\n",
    "    plt.ylim(0,)\n",
    "    plt.xlabel('velocity in flow direction (mm/s)', fontsize=14)\n",
    "    plt.ylabel('flow height (mm)', fontsize=14)\n",
    "    plt.title('Position x= '+ str( numericalpart(position[i]) ) + ' mm')\n",
    "    name='[700,900] '+ position[i] + 'Time='+str(Timestep[j]*0.04)+'s.png'\n",
    "    plt.savefig(Figure_path+'/VelxDistributionRigid/SamePosition/'+name,dpi=300)\n",
    "    #plt.show()\n",
    "    plt.close()"
   ]
  },
  {
   "cell_type": "code",
   "execution_count": 17,
   "metadata": {
    "collapsed": true
   },
   "outputs": [],
   "source": [
    "for i in range(3,len(position)):\n",
    "    for j in range(len(Timestep)):\n",
    "        filtCondition=debris +'&'+position[i]\n",
    "        filtered=filelist_rigid[Timestep[j]].query( filtCondition )\n",
    "        function,x,y= PolyFit(filtered.velx,filtered.y,2,5)\n",
    "        #print(function)\n",
    "        lb=' t= '+ str( Timestep[j]*0.04 ) + ' s'\n",
    "        plt.scatter(filtered.velx,filtered.y,label= lb, marker=next(marker))\n",
    "        plt.plot(x,y,label='Fitted data'+lb,linestyle=next(linetype))\n",
    "    plt.legend()\n",
    "    #plt.xlim(1000,)\n",
    "    plt.ylim(0,)\n",
    "    plt.xlabel('velocity in flow direction (mm/s)', fontsize=14)\n",
    "    plt.ylabel('flow height (mm)', fontsize=14)\n",
    "    plt.title('Position x= '+ str( numericalpart(position[i]) ) + ' mm')\n",
    "    name='Same Position x=[1000,1200]'+ position[i]+'Time='+str(Timestep[j]*0.04)+'s.png'\n",
    "    plt.savefig(Figure_path+'/VelxDistributionRigid/SamePosition/'+name,dpi=300)\n",
    "    #plt.show()\n",
    "    plt.close()"
   ]
  },
  {
   "cell_type": "markdown",
   "metadata": {},
   "source": [
    "## Impact pressure before the barrier"
   ]
  },
  {
   "cell_type": "code",
   "execution_count": 112,
   "metadata": {
    "collapsed": true
   },
   "outputs": [],
   "source": [
    "def Average(list1):\n",
    "    if len(list1)==0:\n",
    "        return 0\n",
    "    else:\n",
    "        return sum(list1)/len(list1)\n",
    "        \n",
    "def TimeHistory(dflist,filtCondition,index):\n",
    "    F=[]\n",
    "    Time=[]\n",
    "    num=0\n",
    "    for i in dflist:\n",
    "        filtered= i.query( filtCondition )\n",
    "        F.append( Average(filtered[index].tolist() ) )\n",
    "        Time.append(num*0.04)\n",
    "        num+=1\n",
    "    return F,Time"
   ]
  },
  {
   "cell_type": "code",
   "execution_count": 69,
   "metadata": {},
   "outputs": [],
   "source": [
    "linetype=itertools.cycle( [':','-','--','-.'] ) \n",
    "# debris,base,barrier=[\"mat==1\",\"mat==2\",\"mat==3\"]\n",
    "# position,value=[\"x>1196 & x<1197\",\"velx > 0\"]\n",
    "# filtCondition_force =debris +'&'+position+'& '+ value\n",
    "\n",
    "# velocity,t_velx=TimeSeries(filelist_80Mpa,filtCondition,'velx')\n",
    "# F_estimate=[2.65*(x**2)/1000 for x in velocity] # rho * v^2\n",
    "# F,t=TimeSeries(filelist_rigid,filtCondition_force,'vonmises')\n",
    "\n",
    "# plt.plot(t,F,label='Impact pressure',linestyle=next(linetype))\n",
    "# plt.plot(t_velx,F_estimate,label=r'$\\rho  v^2 $',linestyle=next(linetype))\n",
    "# #horiz_line_data = np.array([p_analytical for i in range(len(t))])\n",
    "# print(velocity)\n",
    "# #plt.plot(t, horiz_line_data, 'b-',label='Reference line')\n",
    "# plt.legend(loc='upper right')\n",
    "# plt.xlabel('Time (s)', fontsize=12)\n",
    "# plt.ylabel('Impact pressure (Pa)', fontsize=12)\n",
    "# plt.title(r'$\\rho \\  v^2 $ calculation')\n",
    "# plt.savefig(Figure_path+'/velocity.png',dpi=300)\n",
    "# plt.show()\n",
    "# plt.close()"
   ]
  },
  {
   "cell_type": "code",
   "execution_count": 166,
   "metadata": {},
   "outputs": [
    {
     "name": "stdout",
     "output_type": "stream",
     "text": [
      "[0, 0, 0, 0, 0, 0, 0, 0, 0, 0, 0, 0, 0, 0, 2594.8500000000004, 73.87569769230768, 6.243720123456792, 16.974177638888904, 2.835014574358968, 5.535731674008808, 18.84320345849803, 9.228589753036436, 18.53480608429116, -0.27882094339622665, -0.00592721481481404, 0.3832568535714301, 5.667000428082192, -0.09967172847681657, 3.815966163522016, 1.91783227672956, -0.9225280804953554, -0.816173083591331, -1.1917798489164086, -0.7729109995076914, -0.6518241318042813, 0.31783842857142935, 0.8868364969879511, -0.06729238722891398, 0.6615251674698789, 0.438923966867471, 0.21595229457831436, 1.0101452523952101, -1.1190480270270253, -0.9010273483035705, 2.6424573046647213, -0.8291198951149421, 2.2746592716763017, -0.10575802040229927, 0.44144111514285833, 1.699773239943343, 1.5816052691218125] [0.0, 0.0, 0.0, 0.0, 0.0, 0.0, 0.0, 0.0, 0.0, 0.0, 0.0, 0.0, 0.0, 0.0, 17843.103284625005, 14.462689580241873, 0.10330770859715714, 0.7635251722688736, 0.021298865237593567, 0.08120746169155456, 0.9409257389326332, 0.22569220239910012, 0.9103784469430329, 0.0002060139639623588, 9.309946997152025e-08, 0.0003892474118951024, 0.08510446870749191, 2.6326301662524057e-05, 0.03858823406703407, 0.009746913700414073, 0.0022553038571514793, 0.0017652670313043017, 0.0037638989019505267, 0.001583087244873943, 0.0011259179518263735, 0.00026770635669340234, 0.0020841692768331296, 1.1999903254260178e-05, 0.0011596812000695359, 0.0005105337590302935, 0.0001235837928641435, 0.002704042591981944, 0.0033185114900016566, 0.0021514032483360536, 0.018503838608486253, 0.0018217154712598434, 0.013711298225890853, 2.9639611030444848e-05, 0.0005164061840672113, 0.007656457028152847, 0.006628909352381784]\n"
     ]
    },
    {
     "data": {
      "image/png": "[encoded data removed]",
      "text/plain": [
       "<matplotlib.figure.Figure at 0x7f841b4fb978>"
      ]
     },
     "metadata": {},
     "output_type": "display_data"
    }
   ],
   "source": [
    "linetype=itertools.cycle( [':','-','--','-.'] ) \n",
    "debris,base,barrier,position=[\"mat==1\",\"mat==2\",\"mat==3\",\"x>1198 & x<1200\"]\n",
    "filtCondition_force =debris +'&'+position\n",
    "\n",
    "F_rigid,t=TimeHistory(filelist_rigid,filtCondition_force,'vonmises')\n",
    "F_5Mpa,t2=TimeHistory(filelist_5Mpa,filtCondition_force,'vonmises')\n",
    "F_20Mpa,t=TimeHistory(filelist_20Mpa,filtCondition_force,'vonmises')\n",
    "F_80Mpa,t=TimeHistory(filelist_80Mpa,filtCondition_force,'vonmises')\n",
    "\n",
    "velocity,t_velx=TimeSeries(filelist_rigid,filtCondition,'velx')\n",
    "F_estimate=[2650*(x/1000)**2  for x in velocity] # rho * v^2\n",
    "print (velocity,F_estimate)\n",
    "\n",
    "#plt.plot(t,F_rigid,label='Rigid barrier',linestyle=next(linetype))\n",
    "t2[:]=[x-1.09 for x in t2]\n",
    "plt.plot(t2[25:],F_5Mpa[25:],label='Barrier E=5Mpa',linestyle=next(linetype))\n",
    "plt.plot(t,F_20Mpa,label='Barrier E=20 Mpa',linestyle=next(linetype))\n",
    "plt.plot(t,F_80Mpa,label='Barrier E=80 Mpa',linestyle=next(linetype))\n",
    "plt.plot(t_velx,F_estimate,'xb-',label=r'$\\rho  v^2 $')\n",
    "\n",
    "p_analytical=2650*(2.5**2)\n",
    "\n",
    "plt.legend(loc=r'upper right')\n",
    "plt.xlabel(r'Time (s)', fontsize=12)\n",
    "plt.ylabel(r'Impact pressure (Pa)', fontsize=12)\n",
    "plt.title(r'Force Distribution at x= 1200 mm')\n",
    "plt.savefig(Figure_path+'/Force x=1200.png',dpi=300)\n",
    "plt.show()\n",
    "plt.close()"
   ]
  },
  {
   "cell_type": "markdown",
   "metadata": {},
   "source": [
    "## Earth pressure"
   ]
  },
  {
   "cell_type": "code",
   "execution_count": 154,
   "metadata": {},
   "outputs": [
    {
     "data": {
      "image/png": "[encoded data removed]",
      "text/plain": [
       "<matplotlib.figure.Figure at 0x7f8417b595f8>"
      ]
     },
     "metadata": {},
     "output_type": "display_data"
    }
   ],
   "source": [
    "debris,base,barrier,position=[\"mat==1\",\"mat==2\",\"mat==3\",\"x>1199& x<1200\"]\n",
    "filtCondition_force =debris +'&'+position\n",
    "K=[]\n",
    "Time=[]\n",
    "num=0\n",
    "for i in filelist_rigid:\n",
    "    filted=i.query(filtCondition_force)\n",
    "    K.append( Average(filted.sxx/filted.syy) )\n",
    "    Time.append(num*0.04)\n",
    "    num+=1\n",
    "plt.plot(Time,K)\n",
    "plt.xlabel(r'Time (s)', fontsize=12)\n",
    "plt.ylabel(r'Earth pressure coefficient', fontsize=12)\n",
    "plt.title(r'earth pressure coefficient time history at x= 1200 mm')\n",
    "plt.savefig(Figure_path+'/earthpressure/rigid.png',dpi=300)\n",
    "plt.show()"
   ]
  },
  {
   "cell_type": "code",
   "execution_count": 152,
   "metadata": {
    "collapsed": true
   },
   "outputs": [],
   "source": [
    "def TimeSeries_earthpresure(dflist):\n",
    "    K=[]\n",
    "    Time=[]\n",
    "    num=0\n",
    "    for i in dflist:\n",
    "        filted=i.query(filtCondition_force)\n",
    "        K.append( Average(filted.sxx/filted.syy) )\n",
    "        Time.append(num*0.04)\n",
    "        num+=1\n",
    "    return K,Time"
   ]
  },
  {
   "cell_type": "code",
   "execution_count": 162,
   "metadata": {},
   "outputs": [
    {
     "data": {
      "image/png": "[encoded data removed]",
      "text/plain": [
       "<matplotlib.figure.Figure at 0x7f841a9428d0>"
      ]
     },
     "metadata": {},
     "output_type": "display_data"
    }
   ],
   "source": [
    "# time history of the earth pressure \n",
    "debris,base,barrier,position=[\"mat==1\",\"mat==2\",\"mat==3\",\"x>1199& x<1200\"]\n",
    "filtCondition_force =debris +'&'+position\n",
    "\n",
    "dfAll=[filelist_20Mpa,filelist_80Mpa,filelist_rigid]\n",
    "\n",
    "K_80Mpa,t_80Mpa=TimeSeries_earthpresure(filelist_80Mpa)\n",
    "plt.plot(t_80Mpa,K_80Mpa,label=r'$E \\ =\\ 80Mpa$',linestyle=next(linetype))\n",
    "\n",
    "K_20Mpa,t_20Mpa=TimeSeries_earthpresure(filelist_20Mpa)\n",
    "plt.plot(t_20Mpa,K_20Mpa,label=r'$E \\ =\\ 20Mpa$',linestyle=next(linetype))\n",
    "\n",
    "K_5Mpa,t_5Mpa=TimeSeries_earthpresure(filelist_5Mpa)\n",
    "t_5Mpa=[ x-1.07 for x in t_5Mpa]\n",
    "plt.plot(t_5Mpa[27:],K_5Mpa[27:],label=r'$E \\ =\\ 5Mpa$',linestyle=next(linetype))\n",
    "\n",
    "plt.xlabel(r'Time (s)', fontsize=12)\n",
    "plt.ylabel(r'Earth pressure coefficient', fontsize=12)\n",
    "plt.title(r'earth pressure coefficient time history at x= 1200 mm')\n",
    "plt.legend()\n",
    "plt.savefig(Figure_path+'/earthpressure/All.png',dpi=300)\n",
    "plt.show()"
   ]
  },
  {
   "cell_type": "code",
   "execution_count": 175,
   "metadata": {},
   "outputs": [
    {
     "data": {
      "text/html": [
       "<div>\n",
       "<style>\n",
       "    .dataframe thead tr:only-child th {\n",
       "        text-align: right;\n",
       "    }\n",
       "\n",
       "    .dataframe thead th {\n",
       "        text-align: left;\n",
       "    }\n",
       "\n",
       "    .dataframe tbody tr th {\n",
       "        vertical-align: top;\n",
       "    }\n",
       "</style>\n",
       "<table border=\"1\" class=\"dataframe\">\n",
       "  <thead>\n",
       "    <tr style=\"text-align: right;\">\n",
       "      <th></th>\n",
       "      <th>x</th>\n",
       "      <th>y</th>\n",
       "      <th>mat</th>\n",
       "      <th>mass</th>\n",
       "      <th>velx</th>\n",
       "      <th>vely</th>\n",
       "      <th>dispx</th>\n",
       "      <th>dispy</th>\n",
       "      <th>sxx</th>\n",
       "      <th>syy</th>\n",
       "      <th>...</th>\n",
       "      <th>vonmises</th>\n",
       "      <th>exx</th>\n",
       "      <th>eyy</th>\n",
       "      <th>exy</th>\n",
       "      <th>pexx</th>\n",
       "      <th>peyy</th>\n",
       "      <th>pexy</th>\n",
       "      <th>equivstrain</th>\n",
       "      <th>strerg</th>\n",
       "      <th>work</th>\n",
       "    </tr>\n",
       "  </thead>\n",
       "  <tbody>\n",
       "    <tr>\n",
       "      <th>1</th>\n",
       "      <td>584.328</td>\n",
       "      <td>2.100910</td>\n",
       "      <td>1</td>\n",
       "      <td>0.004141</td>\n",
       "      <td>861.678</td>\n",
       "      <td>238.9620</td>\n",
       "      <td>775.774</td>\n",
       "      <td>2.341220</td>\n",
       "      <td>-9275.04</td>\n",
       "      <td>-7063.37</td>\n",
       "      <td>...</td>\n",
       "      <td>2323.14</td>\n",
       "      <td>-8.47899</td>\n",
       "      <td>-485.66200</td>\n",
       "      <td>-131.912000</td>\n",
       "      <td>0</td>\n",
       "      <td>0</td>\n",
       "      <td>0</td>\n",
       "      <td>329.8970</td>\n",
       "      <td>0.000108</td>\n",
       "      <td>0</td>\n",
       "    </tr>\n",
       "    <tr>\n",
       "      <th>2</th>\n",
       "      <td>586.413</td>\n",
       "      <td>12.439200</td>\n",
       "      <td>1</td>\n",
       "      <td>0.004141</td>\n",
       "      <td>875.662</td>\n",
       "      <td>229.4710</td>\n",
       "      <td>777.761</td>\n",
       "      <td>12.552700</td>\n",
       "      <td>8646.06</td>\n",
       "      <td>7501.94</td>\n",
       "      <td>...</td>\n",
       "      <td>7477.46</td>\n",
       "      <td>-0.42413</td>\n",
       "      <td>-1.27383</td>\n",
       "      <td>-2.659310</td>\n",
       "      <td>0</td>\n",
       "      <td>0</td>\n",
       "      <td>0</td>\n",
       "      <td>1.7083</td>\n",
       "      <td>0.000053</td>\n",
       "      <td>0</td>\n",
       "    </tr>\n",
       "    <tr>\n",
       "      <th>3</th>\n",
       "      <td>586.938</td>\n",
       "      <td>10.888100</td>\n",
       "      <td>1</td>\n",
       "      <td>0.004141</td>\n",
       "      <td>881.105</td>\n",
       "      <td>17.9937</td>\n",
       "      <td>789.265</td>\n",
       "      <td>10.794800</td>\n",
       "      <td>-12786.20</td>\n",
       "      <td>-17906.80</td>\n",
       "      <td>...</td>\n",
       "      <td>4489.64</td>\n",
       "      <td>4.92590</td>\n",
       "      <td>-221.52300</td>\n",
       "      <td>-0.764055</td>\n",
       "      <td>0</td>\n",
       "      <td>0</td>\n",
       "      <td>0</td>\n",
       "      <td>149.3510</td>\n",
       "      <td>0.000042</td>\n",
       "      <td>0</td>\n",
       "    </tr>\n",
       "    <tr>\n",
       "      <th>4</th>\n",
       "      <td>576.561</td>\n",
       "      <td>1.332240</td>\n",
       "      <td>1</td>\n",
       "      <td>0.004141</td>\n",
       "      <td>1195.200</td>\n",
       "      <td>-189.4400</td>\n",
       "      <td>773.721</td>\n",
       "      <td>0.697100</td>\n",
       "      <td>4842.64</td>\n",
       "      <td>4619.09</td>\n",
       "      <td>...</td>\n",
       "      <td>4382.67</td>\n",
       "      <td>-1.79467</td>\n",
       "      <td>-3.08838</td>\n",
       "      <td>57.928100</td>\n",
       "      <td>0</td>\n",
       "      <td>0</td>\n",
       "      <td>0</td>\n",
       "      <td>33.4927</td>\n",
       "      <td>0.000051</td>\n",
       "      <td>0</td>\n",
       "    </tr>\n",
       "    <tr>\n",
       "      <th>5</th>\n",
       "      <td>561.633</td>\n",
       "      <td>0.997725</td>\n",
       "      <td>1</td>\n",
       "      <td>0.004141</td>\n",
       "      <td>196.208</td>\n",
       "      <td>-221.8430</td>\n",
       "      <td>749.037</td>\n",
       "      <td>0.661775</td>\n",
       "      <td>4241.20</td>\n",
       "      <td>6378.65</td>\n",
       "      <td>...</td>\n",
       "      <td>3192.02</td>\n",
       "      <td>1876.47000</td>\n",
       "      <td>17420.40000</td>\n",
       "      <td>28719.900000</td>\n",
       "      <td>0</td>\n",
       "      <td>0</td>\n",
       "      <td>0</td>\n",
       "      <td>19921.3000</td>\n",
       "      <td>0.000055</td>\n",
       "      <td>0</td>\n",
       "    </tr>\n",
       "  </tbody>\n",
       "</table>\n",
       "<p>5 rows × 22 columns</p>\n",
       "</div>"
      ],
      "text/plain": [
       "         x          y  mat      mass      velx      vely    dispx      dispy  \\\n",
       "1  584.328   2.100910    1  0.004141   861.678  238.9620  775.774   2.341220   \n",
       "2  586.413  12.439200    1  0.004141   875.662  229.4710  777.761  12.552700   \n",
       "3  586.938  10.888100    1  0.004141   881.105   17.9937  789.265  10.794800   \n",
       "4  576.561   1.332240    1  0.004141  1195.200 -189.4400  773.721   0.697100   \n",
       "5  561.633   0.997725    1  0.004141   196.208 -221.8430  749.037   0.661775   \n",
       "\n",
       "        sxx       syy  ...   vonmises         exx          eyy           exy  \\\n",
       "1  -9275.04  -7063.37  ...    2323.14    -8.47899   -485.66200   -131.912000   \n",
       "2   8646.06   7501.94  ...    7477.46    -0.42413     -1.27383     -2.659310   \n",
       "3 -12786.20 -17906.80  ...    4489.64     4.92590   -221.52300     -0.764055   \n",
       "4   4842.64   4619.09  ...    4382.67    -1.79467     -3.08838     57.928100   \n",
       "5   4241.20   6378.65  ...    3192.02  1876.47000  17420.40000  28719.900000   \n",
       "\n",
       "   pexx  peyy  pexy  equivstrain    strerg  work  \n",
       "1     0     0     0     329.8970  0.000108     0  \n",
       "2     0     0     0       1.7083  0.000053     0  \n",
       "3     0     0     0     149.3510  0.000042     0  \n",
       "4     0     0     0      33.4927  0.000051     0  \n",
       "5     0     0     0   19921.3000  0.000055     0  \n",
       "\n",
       "[5 rows x 22 columns]"
      ]
     },
     "execution_count": 175,
     "metadata": {},
     "output_type": "execute_result"
    }
   ],
   "source": [
    "# volume change and density change \n",
    "dfbeforeImpact=filelist_rigid[40]\n",
    "dfbeforeImpact.head()"
   ]
  },
  {
   "cell_type": "code",
   "execution_count": 176,
   "metadata": {},
   "outputs": [
    {
     "data": {
      "text/html": [
       "<div>\n",
       "<style>\n",
       "    .dataframe thead tr:only-child th {\n",
       "        text-align: right;\n",
       "    }\n",
       "\n",
       "    .dataframe thead th {\n",
       "        text-align: left;\n",
       "    }\n",
       "\n",
       "    .dataframe tbody tr th {\n",
       "        vertical-align: top;\n",
       "    }\n",
       "</style>\n",
       "<table border=\"1\" class=\"dataframe\">\n",
       "  <thead>\n",
       "    <tr style=\"text-align: right;\">\n",
       "      <th></th>\n",
       "      <th>x</th>\n",
       "      <th>y</th>\n",
       "      <th>mat</th>\n",
       "      <th>mass</th>\n",
       "      <th>velx</th>\n",
       "      <th>vely</th>\n",
       "      <th>dispx</th>\n",
       "      <th>dispy</th>\n",
       "      <th>sxx</th>\n",
       "      <th>syy</th>\n",
       "      <th>...</th>\n",
       "      <th>eyy</th>\n",
       "      <th>exy</th>\n",
       "      <th>pexx</th>\n",
       "      <th>peyy</th>\n",
       "      <th>pexy</th>\n",
       "      <th>equivstrain</th>\n",
       "      <th>strerg</th>\n",
       "      <th>work</th>\n",
       "      <th>Dvolume</th>\n",
       "      <th>Density</th>\n",
       "    </tr>\n",
       "  </thead>\n",
       "  <tbody>\n",
       "    <tr>\n",
       "      <th>1</th>\n",
       "      <td>584.328</td>\n",
       "      <td>2.100910</td>\n",
       "      <td>1</td>\n",
       "      <td>0.004141</td>\n",
       "      <td>861.678</td>\n",
       "      <td>238.9620</td>\n",
       "      <td>775.774</td>\n",
       "      <td>2.341220</td>\n",
       "      <td>-9275.04</td>\n",
       "      <td>-7063.37</td>\n",
       "      <td>...</td>\n",
       "      <td>-485.66200</td>\n",
       "      <td>-131.912000</td>\n",
       "      <td>0</td>\n",
       "      <td>0</td>\n",
       "      <td>0</td>\n",
       "      <td>329.8970</td>\n",
       "      <td>0.000108</td>\n",
       "      <td>0</td>\n",
       "      <td>-494.14099</td>\n",
       "      <td>-8.379451e-06</td>\n",
       "    </tr>\n",
       "    <tr>\n",
       "      <th>2</th>\n",
       "      <td>586.413</td>\n",
       "      <td>12.439200</td>\n",
       "      <td>1</td>\n",
       "      <td>0.004141</td>\n",
       "      <td>875.662</td>\n",
       "      <td>229.4710</td>\n",
       "      <td>777.761</td>\n",
       "      <td>12.552700</td>\n",
       "      <td>8646.06</td>\n",
       "      <td>7501.94</td>\n",
       "      <td>...</td>\n",
       "      <td>-1.27383</td>\n",
       "      <td>-2.659310</td>\n",
       "      <td>0</td>\n",
       "      <td>0</td>\n",
       "      <td>0</td>\n",
       "      <td>1.7083</td>\n",
       "      <td>0.000053</td>\n",
       "      <td>0</td>\n",
       "      <td>-1.69796</td>\n",
       "      <td>-2.438591e-03</td>\n",
       "    </tr>\n",
       "    <tr>\n",
       "      <th>3</th>\n",
       "      <td>586.938</td>\n",
       "      <td>10.888100</td>\n",
       "      <td>1</td>\n",
       "      <td>0.004141</td>\n",
       "      <td>881.105</td>\n",
       "      <td>17.9937</td>\n",
       "      <td>789.265</td>\n",
       "      <td>10.794800</td>\n",
       "      <td>-12786.20</td>\n",
       "      <td>-17906.80</td>\n",
       "      <td>...</td>\n",
       "      <td>-221.52300</td>\n",
       "      <td>-0.764055</td>\n",
       "      <td>0</td>\n",
       "      <td>0</td>\n",
       "      <td>0</td>\n",
       "      <td>149.3510</td>\n",
       "      <td>0.000042</td>\n",
       "      <td>0</td>\n",
       "      <td>-216.59710</td>\n",
       "      <td>-1.911674e-05</td>\n",
       "    </tr>\n",
       "    <tr>\n",
       "      <th>4</th>\n",
       "      <td>576.561</td>\n",
       "      <td>1.332240</td>\n",
       "      <td>1</td>\n",
       "      <td>0.004141</td>\n",
       "      <td>1195.200</td>\n",
       "      <td>-189.4400</td>\n",
       "      <td>773.721</td>\n",
       "      <td>0.697100</td>\n",
       "      <td>4842.64</td>\n",
       "      <td>4619.09</td>\n",
       "      <td>...</td>\n",
       "      <td>-3.08838</td>\n",
       "      <td>57.928100</td>\n",
       "      <td>0</td>\n",
       "      <td>0</td>\n",
       "      <td>0</td>\n",
       "      <td>33.4927</td>\n",
       "      <td>0.000051</td>\n",
       "      <td>0</td>\n",
       "      <td>-4.88305</td>\n",
       "      <td>-8.479598e-04</td>\n",
       "    </tr>\n",
       "    <tr>\n",
       "      <th>5</th>\n",
       "      <td>561.633</td>\n",
       "      <td>0.997725</td>\n",
       "      <td>1</td>\n",
       "      <td>0.004141</td>\n",
       "      <td>196.208</td>\n",
       "      <td>-221.8430</td>\n",
       "      <td>749.037</td>\n",
       "      <td>0.661775</td>\n",
       "      <td>4241.20</td>\n",
       "      <td>6378.65</td>\n",
       "      <td>...</td>\n",
       "      <td>17420.40000</td>\n",
       "      <td>28719.900000</td>\n",
       "      <td>0</td>\n",
       "      <td>0</td>\n",
       "      <td>0</td>\n",
       "      <td>19921.3000</td>\n",
       "      <td>0.000055</td>\n",
       "      <td>0</td>\n",
       "      <td>19296.87000</td>\n",
       "      <td>2.145752e-07</td>\n",
       "    </tr>\n",
       "  </tbody>\n",
       "</table>\n",
       "<p>5 rows × 24 columns</p>\n",
       "</div>"
      ],
      "text/plain": [
       "         x          y  mat      mass      velx      vely    dispx      dispy  \\\n",
       "1  584.328   2.100910    1  0.004141   861.678  238.9620  775.774   2.341220   \n",
       "2  586.413  12.439200    1  0.004141   875.662  229.4710  777.761  12.552700   \n",
       "3  586.938  10.888100    1  0.004141   881.105   17.9937  789.265  10.794800   \n",
       "4  576.561   1.332240    1  0.004141  1195.200 -189.4400  773.721   0.697100   \n",
       "5  561.633   0.997725    1  0.004141   196.208 -221.8430  749.037   0.661775   \n",
       "\n",
       "        sxx       syy      ...               eyy           exy  pexx  peyy  \\\n",
       "1  -9275.04  -7063.37      ...        -485.66200   -131.912000     0     0   \n",
       "2   8646.06   7501.94      ...          -1.27383     -2.659310     0     0   \n",
       "3 -12786.20 -17906.80      ...        -221.52300     -0.764055     0     0   \n",
       "4   4842.64   4619.09      ...          -3.08838     57.928100     0     0   \n",
       "5   4241.20   6378.65      ...       17420.40000  28719.900000     0     0   \n",
       "\n",
       "   pexy  equivstrain    strerg  work      Dvolume       Density  \n",
       "1     0     329.8970  0.000108     0   -494.14099 -8.379451e-06  \n",
       "2     0       1.7083  0.000053     0     -1.69796 -2.438591e-03  \n",
       "3     0     149.3510  0.000042     0   -216.59710 -1.911674e-05  \n",
       "4     0      33.4927  0.000051     0     -4.88305 -8.479598e-04  \n",
       "5     0   19921.3000  0.000055     0  19296.87000  2.145752e-07  \n",
       "\n",
       "[5 rows x 24 columns]"
      ]
     },
     "execution_count": 176,
     "metadata": {},
     "output_type": "execute_result"
    }
   ],
   "source": [
    "dfbeforeImpact['Dvolume']=dfbeforeImpact['exx']+dfbeforeImpact['eyy']\n",
    "dfbeforeImpact['Density']=dfbeforeImpact['mass']/dfbeforeImpact['Dvolume']\n",
    "dfbeforeImpact.head()"
   ]
  },
  {
   "cell_type": "code",
   "execution_count": null,
   "metadata": {
    "collapsed": true
   },
   "outputs": [],
   "source": []
  }
 ],
 "metadata": {
  "kernelspec": {
   "display_name": "Python 3",
   "language": "python",
   "name": "python3"
  },
  "language_info": {
   "codemirror_mode": {
    "name": "ipython",
    "version": 3
   },
   "file_extension": ".py",
   "mimetype": "text/x-python",
   "name": "python",
   "nbconvert_exporter": "python",
   "pygments_lexer": "ipython3",
   "version": "3.6.3"
  }
 },
 "nbformat": 4,
 "nbformat_minor": 2
}
