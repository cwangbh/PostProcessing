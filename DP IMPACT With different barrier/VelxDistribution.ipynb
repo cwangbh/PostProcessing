{
 "cells": [
  {
   "cell_type": "markdown",
   "metadata": {},
   "source": [
    "  # Import the files & generate multi dataframes"
   ]
  },
  {
   "cell_type": "code",
   "execution_count": 1,
   "metadata": {
    "collapsed": true
   },
   "outputs": [],
   "source": [
    "import numpy as np\n",
    "import pandas as pd\n",
    "import math \n",
    "import matplotlib.pyplot as plt\n",
    "import os\n",
    "import itertools"
   ]
  },
  {
   "cell_type": "markdown",
   "metadata": {},
   "source": [
    "## Definition of functions "
   ]
  },
  {
   "cell_type": "code",
   "execution_count": 2,
   "metadata": {
    "collapsed": true
   },
   "outputs": [],
   "source": [
    "# generate dataframes -- convert string table into the double table\n",
    "import re,glob\n",
    "def numericalpart(value): # will return the first number in the string \n",
    "    number=re.compile(r\"(\\d+)\")\n",
    "    parts=number.split(value)\n",
    "    return int(parts[1])\n",
    "\n",
    "def GenerateDflist(PATH):\n",
    "    dflist=[]\n",
    "    filelist_temp=sorted( glob.glob(PATH) , key = numericalpart )\n",
    "    num=0\n",
    "    for i in filelist_temp:\n",
    "        time=num*0.04 # archive time is every 0.04 s\n",
    "        temp_str=pd.read_csv(i,names=['Time'+str(time)])\n",
    "        rows=len( temp_str['Time'+str(time)] )\n",
    "        temp_str.index=range(1,rows+1)\n",
    "        temp=temp_str['Time'+str(time)].str.split(r'\\t',expand=True) # split into multi columns\n",
    "        columns=['x','y','mat','mass','velx','vely','dispx','dispy','sxx','syy','sxy','pressure',\n",
    "         'vonmises','exx','eyy','exy','pexx','peyy','pexy','equivstrain','strerg','work']\n",
    "        temp.columns=columns # rename the columns\n",
    "        temp=temp.apply(pd.to_numeric)\n",
    "        dflist.append(temp)\n",
    "        num=num+1\n",
    "    return dflist"
   ]
  },
  {
   "cell_type": "code",
   "execution_count": 3,
   "metadata": {
    "collapsed": true
   },
   "outputs": [],
   "source": [
    "# the path should not contain number !!!!!!!!!!!!!!!!\n",
    "path_rigid='Rigid/All/'\n",
    "path_5Mpa='FiveMpa/All/' # this time step is a little bit different\n",
    "path_20Mpa='TwentyMpa/All/'\n",
    "path_80Mpa='EightyMpa/All/'\n",
    "Figure_path='Figure/'"
   ]
  },
  {
   "cell_type": "markdown",
   "metadata": {},
   "source": [
    "## Read into the data and convert "
   ]
  },
  {
   "cell_type": "code",
   "execution_count": 4,
   "metadata": {
    "collapsed": true
   },
   "outputs": [],
   "source": [
    "filelist_rigid=GenerateDflist(path_rigid+'All_*.txt')"
   ]
  },
  {
   "cell_type": "code",
   "execution_count": null,
   "metadata": {
    "collapsed": true
   },
   "outputs": [],
   "source": [
    "filelist_20Mpa=GenerateDflist(path_20Mpa+'All_*.txt')"
   ]
  },
  {
   "cell_type": "code",
   "execution_count": null,
   "metadata": {
    "collapsed": true
   },
   "outputs": [],
   "source": [
    "filelist_5Mpa=GenerateDflist(path_5Mpa+'All_*.txt')"
   ]
  },
  {
   "cell_type": "code",
   "execution_count": null,
   "metadata": {
    "collapsed": true
   },
   "outputs": [],
   "source": [
    "filelist_80Mpa=GenerateDflist(path_80Mpa+'All_*.txt')"
   ]
  },
  {
   "cell_type": "markdown",
   "metadata": {
    "collapsed": true
   },
   "source": [
    "# Plotting"
   ]
  },
  {
   "cell_type": "markdown",
   "metadata": {},
   "source": [
    "## Definition of functions"
   ]
  },
  {
   "cell_type": "code",
   "execution_count": null,
   "metadata": {
    "collapsed": true
   },
   "outputs": [],
   "source": [
    "############## Fit by polynominal ########################################### \n",
    "# INPUT: list x , list y\n",
    "#        order: the order of polynominal\n",
    "#        step: step of the fitted function\n",
    "# OUTPUT: function \n",
    "#         xval, yval  (within the range of list x and list y)\n",
    "\n",
    "def PolyFit(x,y,order,step):\n",
    "    z1=np.polyfit(x,y,order)\n",
    "    function=np.poly1d(z1)\n",
    "    xval=np.arange(min(x),max(x),step)\n",
    "    yval=np.polyval(z1,xval)\n",
    "    return function,xval,yval\n",
    "#############################################################################\n"
   ]
  },
  {
   "cell_type": "code",
   "execution_count": null,
   "metadata": {
    "collapsed": true
   },
   "outputs": [],
   "source": [
    "############## Moving average ############################################### \n",
    "# INPUT: list x , list y\n",
    "# OUTPUT:val_x, val_y  (within the range of list x and list y)\n",
    "#############################################################################"
   ]
  },
  {
   "cell_type": "code",
   "execution_count": null,
   "metadata": {
    "collapsed": true
   },
   "outputs": [],
   "source": [
    "############## Scatter ###################################################### \n",
    "# INPUT: list x , list y\n",
    "# OUTPUT:Figure\n",
    "#############################################################################"
   ]
  },
  {
   "cell_type": "markdown",
   "metadata": {},
   "source": [
    "## run up height against stiffness"
   ]
  },
  {
   "cell_type": "code",
   "execution_count": null,
   "metadata": {
    "slideshow": {
     "slide_type": "slide"
    }
   },
   "outputs": [],
   "source": [
    "h=0.03 #unit m\n",
    "vx= 2.1# m/s\n",
    "g=9.8 # m/s^2\n",
    "theta= 40.* np.pi/180\n",
    "froude=vx/np.sqrt(g*h)\n",
    "\n",
    "# energy approach\n",
    "#h_f= (1+ vx**2/(g*h*np.cos(theta)))\n",
    "h_f=h*10.5*1000\n",
    "print (h_f)\n",
    "print (froude)\n",
    "# continuum approach\n",
    "h_f2=6.5*0.03*1000\n",
    "print (h_f2)\n",
    "#simulation \n",
    "E=[5,20,80,200]\n",
    "hf=[244,269,295,299]\n",
    "\n",
    "plt.plot\n",
    "plt.scatter(E,hf,label='Calculated')\n",
    "plt.xlabel(\"Young's modulus (MPa)\", fontsize=14)\n",
    "plt.ylabel('Runup height (mm)', fontsize=14)\n",
    "\n",
    "horiz_line_data = np.array([h_f for i in range(len(E))])\n",
    "plt.plot(E, horiz_line_data, 'r--',label='Energy principle')\n",
    "\n",
    "horiz_line_data = np.array([h_f2 for i in range(len(E))])\n",
    "plt.plot(E, horiz_line_data, 'b-.',label='Momentumn equation (Johannesson et al. 2009)')\n",
    "\n",
    "horiz_line_data = np.array([265 for i in range(len(E))])\n",
    "plt.plot(E, horiz_line_data, 'b-',label='Experiment (Ng et al. 2017)')\n",
    "\n",
    "#plt.title('Runup height '\n",
    "plt.ylim(0,350)\n",
    "name='runupheight.png'\n",
    "plt.legend()\n",
    "plt.savefig(Figure_path+'/RunupHeight/'+name,dpi=300)\n",
    "plt.show()"
   ]
  },
  {
   "cell_type": "markdown",
   "metadata": {},
   "source": [
    "## Velocity distribution along depth"
   ]
  },
  {
   "cell_type": "code",
   "execution_count": null,
   "metadata": {
    "collapsed": true
   },
   "outputs": [],
   "source": [
    "marker=itertools.cycle( ('^','+','o','s','p','x') )\n",
    "linetype=itertools.cycle( [':','-','-.'] ) "
   ]
  },
  {
   "cell_type": "markdown",
   "metadata": {},
   "source": [
    "### Different position at the same time"
   ]
  },
  {
   "cell_type": "code",
   "execution_count": null,
   "metadata": {
    "collapsed": true
   },
   "outputs": [],
   "source": [
    "debris,base,barrier=[\"mat==1\",\"mat==2\",\"mat==3\"]\n",
    "Timestep=np.arange(18,40,2)\n",
    "position=[\"x>700 & x<702\",\"x>800 & x<802\", \"x>900 & x<902\",\n",
    "          \"x>1000& x<1002\",\"x>1100 & x<1102\",\"x<1200 & x>1197\"]\n",
    "for j in range(len(Timestep)):\n",
    "    for i in range(0,len(position)-3):\n",
    "        filtCondition=debris +'&'+position[i]\n",
    "        filtered=filelist_rigid[Timestep[j]].query( filtCondition )\n",
    "        function,x,y= PolyFit(filtered.velx,filtered.y,2,5)\n",
    "        #print(function)\n",
    "        lb=' x= '+ str( numericalpart(position[i]) ) + ' mm'\n",
    "        plt.scatter(filtered.velx,filtered.y,label= lb, marker=next(marker))\n",
    "        plt.plot(x,y,label='Fitted data'+lb,linestyle=next(linetype))\n",
    "    plt.legend()\n",
    "    #plt.xlim(1000,)\n",
    "    plt.ylim(0,)\n",
    "    plt.xlabel('velocity in flow direction (mm/s)', fontsize=14)\n",
    "    plt.ylabel('flow height (mm)', fontsize=14)\n",
    "    plt.title('Time='+str(Timestep[j]*0.04)+' s')\n",
    "    name='Position x=[700,900] Time='+str(Timestep[j]*0.04)+'s.png'\n",
    "    plt.savefig(Figure_path+'/VelxDistributionRigid/SameTime/'+name,dpi=300)\n",
    "    #plt.show()\n",
    "    plt.close()"
   ]
  },
  {
   "cell_type": "code",
   "execution_count": null,
   "metadata": {
    "collapsed": true
   },
   "outputs": [],
   "source": [
    "for j in range(len(Timestep)):\n",
    "    for i in range(3,len(position)):\n",
    "        filtCondition=debris +'&'+position[i]\n",
    "        filtered=filelist_rigid[Timestep[j]].query( filtCondition )\n",
    "        function,x,y= PolyFit(filtered.velx,filtered.y,2,5)\n",
    "        #print(function)\n",
    "        lb=' x= '+ str( numericalpart(position[i]) ) + ' mm'\n",
    "        plt.scatter(filtered.velx,filtered.y,label= lb, marker=next(marker))\n",
    "        plt.plot(x,y,label='Fitted data'+lb,linestyle=next(linetype))\n",
    "    plt.legend()\n",
    "    plt.ylim(0,)\n",
    "    plt.xlabel('velocity in flow direction (mm/s)', fontsize=14)\n",
    "    plt.ylabel('flow height (mm)', fontsize=14)\n",
    "    plt.title('Time='+str(Timestep[j]*0.04)+' s')\n",
    "    name='Position x=[1000,1200] Time='+str(Timestep[j]*0.04)+'s.png'\n",
    "    plt.savefig(Figure_path+'/VelxDistributionRigid/SameTime/'+name,dpi=300)\n",
    "    #plt.show()\n",
    "    plt.close()"
   ]
  },
  {
   "cell_type": "markdown",
   "metadata": {},
   "source": [
    "### Smae position of different time "
   ]
  },
  {
   "cell_type": "code",
   "execution_count": null,
   "metadata": {
    "collapsed": true
   },
   "outputs": [],
   "source": [
    "linetype=itertools.cycle( [':','-','--','-.'] ) \n",
    "marker=itertools.cycle( ('^','+','o','s') )\n",
    "Timestep=np.arange(20,28,2)\n",
    "position=[\"x>700 & x<702\",\"x>800 & x<802\", \"x>900 & x<902\",\n",
    "          \"x>1000& x<1002\",\"x>1100 & x<1102\",\"x<1200 & x>1197\"]\n",
    "for i in range(0,len(position)-3):\n",
    "    for j in range(len(Timestep)):\n",
    "        filtCondition=debris +'&'+position[i]\n",
    "        filtered=filelist_rigid[Timestep[j]].query( filtCondition )\n",
    "        function,x,y= PolyFit(filtered.velx,filtered.y,2,5)\n",
    "        #print(function)\n",
    "        lb=' t= '+ str( Timestep[j]*0.04 ) + ' s'\n",
    "        plt.scatter(filtered.velx,filtered.y,label= lb, marker=next(marker))\n",
    "        plt.plot(x,y,label='Fitted data'+lb,linestyle=next(linetype))\n",
    "    plt.legend()\n",
    "    #plt.xlim(1000,)\n",
    "    plt.ylim(0,)\n",
    "    plt.xlabel('velocity in flow direction (mm/s)', fontsize=14)\n",
    "    plt.ylabel('flow height (mm)', fontsize=14)\n",
    "    plt.title('Position x= '+ str( numericalpart(position[i]) ) + ' mm')\n",
    "    name='[700,900] '+ position[i] + 'Time='+str(Timestep[j]*0.04)+'s.png'\n",
    "    plt.savefig(Figure_path+'/VelxDistributionRigid/SamePosition/'+name,dpi=300)\n",
    "    #plt.show()\n",
    "    plt.close()"
   ]
  },
  {
   "cell_type": "code",
   "execution_count": null,
   "metadata": {
    "collapsed": true
   },
   "outputs": [],
   "source": [
    "for i in range(3,len(position)):\n",
    "    for j in range(len(Timestep)):\n",
    "        filtCondition=debris +'&'+position[i]\n",
    "        filtered=filelist_rigid[Timestep[j]].query( filtCondition )\n",
    "        function,x,y= PolyFit(filtered.velx,filtered.y,2,5)\n",
    "        #print(function)\n",
    "        lb=' t= '+ str( Timestep[j]*0.04 ) + ' s'\n",
    "        plt.scatter(filtered.velx,filtered.y,label= lb, marker=next(marker))\n",
    "        plt.plot(x,y,label='Fitted data'+lb,linestyle=next(linetype))\n",
    "    plt.legend()\n",
    "    #plt.xlim(1000,)\n",
    "    plt.ylim(0,)\n",
    "    plt.xlabel('velocity in flow direction (mm/s)', fontsize=14)\n",
    "    plt.ylabel('flow height (mm)', fontsize=14)\n",
    "    plt.title('Position x= '+ str( numericalpart(position[i]) ) + ' mm')\n",
    "    name='Same Position x=[1000,1200]'+ position[i]+'Time='+str(Timestep[j]*0.04)+'s.png'\n",
    "    plt.savefig(Figure_path+'/VelxDistributionRigid/SamePosition/'+name,dpi=300)\n",
    "    #plt.show()\n",
    "    plt.close()"
   ]
  },
  {
   "cell_type": "markdown",
   "metadata": {},
   "source": [
    "## Impact pressure before the barrier"
   ]
  },
  {
   "cell_type": "code",
   "execution_count": null,
   "metadata": {
    "collapsed": true
   },
   "outputs": [],
   "source": [
    "def AveragePressure(list1):\n",
    "    if len(list1)==0:\n",
    "        return 0\n",
    "    else:\n",
    "        return sum(list1)/len(list1)\n",
    "def ForceSeries(dflist,filtCondition):\n",
    "    F=[]\n",
    "    Time=[]\n",
    "    num=0\n",
    "    for i in dflist:\n",
    "        filtered= i.query( filtCondition )\n",
    "        F.append( AveragePressure(filtered.vonmises.tolist() ) )\n",
    "        Time.append(num*0.04)\n",
    "        num+=1\n",
    "    return F,Time"
   ]
  },
  {
   "cell_type": "code",
   "execution_count": null,
   "metadata": {},
   "outputs": [],
   "source": [
    "linetype=itertools.cycle( [':','-','--','-.'] ) \n",
    "debris,base,barrier,position=[\"mat==1\",\"mat==2\",\"mat==3\",\"x>1197 & x<1200\"]\n",
    "filtCondition_force =debris +'&'+position\n",
    "#filtered=filelist_rigid[25].query( filtCondition_force )\n",
    "\n",
    "F_rigid,t=ForceSeries(filelist_rigid,filtCondition_force)\n",
    "F_5Mpa,t2=ForceSeries(filelist_5Mpa,filtCondition_force)\n",
    "F_20Mpa,t=ForceSeries(filelist_20Mpa,filtCondition_force)\n",
    "F_80Mpa,t=ForceSeries(filelist_80Mpa,filtCondition_force)\n",
    "plt.plot(t,F_rigid,label='Rigid barrier',linestyle=next(linetype))\n",
    "t2[:]=[x-1 for x in t2]\n",
    "plt.plot(t2[25:],F_5Mpa[25:],label='Barrier E=5Mpa',linestyle=next(linetype))\n",
    "plt.plot(t,F_20Mpa,label='Barrier E=20 Mpa',linestyle=next(linetype))\n",
    "plt.plot(t,F_80Mpa,label='Barrier E=80 Mpa',linestyle=next(linetype))\n",
    "\n",
    "p_analytical=2650*(2**2)\n",
    "horiz_line_data = np.array([p_analytical for i in range(len(t))])\n",
    "plt.plot(t, horiz_line_data, 'b-',label='Reference line')\n",
    "plt.legend(loc='upper right')\n",
    "plt.xlabel('Time (s)', fontsize=12)\n",
    "plt.ylabel('Impact pressure (Pa)', fontsize=12)\n",
    "plt.title('Force Distribution at x= 1200 mm')\n",
    "plt.savefig(Figure_path+'/Force x= 1200.png',dpi=300)\n",
    "plt.show()\n",
    "plt.close()"
   ]
  },
  {
   "cell_type": "code",
   "execution_count": null,
   "metadata": {},
   "outputs": [],
   "source": [
    "linetype=itertools.cycle( [':','-','--','-.'] ) \n",
    "debris,base,barrier,position=[\"mat==1\",\"mat==2\",\"mat==3\",\"x>1190 & x<1192\"]\n",
    "filtCondition_force =debris +'&'+position\n",
    "#filtered=filelist_rigid[25].query( filtCondition_force )\n",
    "\n",
    "F_rigid,t=ForceSeries(filelist_rigid,filtCondition_force)\n",
    "F_5Mpa,t2=ForceSeries(filelist_5Mpa,filtCondition_force)\n",
    "F_20Mpa,t=ForceSeries(filelist_20Mpa,filtCondition_force)\n",
    "F_80Mpa,t=ForceSeries(filelist_80Mpa,filtCondition_force)\n",
    "plt.plot(t,F_rigid,label='Rigid barrier',linestyle=next(linetype))\n",
    "t2[:]=[x-1 for x in t2]\n",
    "plt.plot(t2[25:],F_5Mpa[25:],label='Barrier E=5Mpa',linestyle=next(linetype))\n",
    "plt.plot(t,F_20Mpa,label='Barrier E=20 Mpa',linestyle=next(linetype))\n",
    "plt.plot(t,F_80Mpa,label='Barrier E=80 Mpa',linestyle=next(linetype))\n",
    "\n",
    "p_analytical=2650*(2**2)\n",
    "horiz_line_data = np.array([p_analytical for i in range(len(t))])\n",
    "plt.plot(t, horiz_line_data, 'b-',label='Reference line')\n",
    "plt.legend(loc='upper right')\n",
    "plt.xlabel('Time (s)', fontsize=12)\n",
    "plt.ylabel('Impact pressure (Pa)', fontsize=12)\n",
    "plt.title('Force Distribution at x= 1190 mm')\n",
    "plt.savefig(Figure_path+'/Force x=1190.png',dpi=300)\n",
    "plt.show()\n",
    "plt.close()"
   ]
  },
  {
   "cell_type": "code",
   "execution_count": null,
   "metadata": {},
   "outputs": [],
   "source": [
    "debris,base,barrier,position=[\"mat==1\",\"mat==2\",\"mat==3\",\"x>1198 & x<1200\"]\n",
    "filtCondition_force =debris +'&'+position\n",
    "F_sxx= filelist_rigid[25].query(filtCondition_force)\n",
    "# plt.scatter(F_sxx.sxx,F_sxx.y)\n",
    "# plt.show()\n",
    "# plt.close()\n",
    "plt.scatter(F_sxx.vonmises,F_sxx.y)\n",
    "plt.show()\n",
    "plt.close()"
   ]
  },
  {
   "cell_type": "code",
   "execution_count": null,
   "metadata": {},
   "outputs": [],
   "source": [
    "filelist_20Mpa[0].head()\n",
    "print ( len(filelist_20Mpa) )"
   ]
  },
  {
   "cell_type": "code",
   "execution_count": null,
   "metadata": {
    "collapsed": true
   },
   "outputs": [],
   "source": []
  }
 ],
 "metadata": {
  "kernelspec": {
   "display_name": "Python 3",
   "language": "python",
   "name": "python3"
  },
  "language_info": {
   "codemirror_mode": {
    "name": "ipython",
    "version": 3
   },
   "file_extension": ".py",
   "mimetype": "text/x-python",
   "name": "python",
   "nbconvert_exporter": "python",
   "pygments_lexer": "ipython3",
   "version": "3.6.3"
  }
 },
 "nbformat": 4,
 "nbformat_minor": 2
}
